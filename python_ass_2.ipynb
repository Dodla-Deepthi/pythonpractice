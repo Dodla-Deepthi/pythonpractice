{
 "cells": [
  {
   "cell_type": "code",
   "execution_count": 1,
   "id": "643cb7e1-1cdc-413a-810b-6e1109c8cbed",
   "metadata": {},
   "outputs": [
    {
     "name": "stdin",
     "output_type": "stream",
     "text": [
      " 10 20\n"
     ]
    },
    {
     "name": "stdout",
     "output_type": "stream",
     "text": [
      "20 is greater than 10\n"
     ]
    }
   ],
   "source": [
    "\"\"\"Problrm Statement:\n",
    "   You work in XYZ company as a Data Analyst. Your company has told you to work with the if_else condition.\"\"\"\n",
    "\"\"\"Task to be performed:\n",
    "   1. Input the values of a and b as 10 and 20 respectively.Now check if a is greater or b is greater using if condition.\n",
    "      Think about all the edge cases, and print the statements accordingly.\"\"\"\n",
    "a,b=map(int,input().split())\n",
    "if(a>b):\n",
    "    print(f\"{a} is greater than {b}\")\n",
    "else:\n",
    "    print(f\"{b} is greater than {a}\")"
   ]
  },
  {
   "cell_type": "code",
   "execution_count": 2,
   "id": "c5f7beab-11ee-4ce2-b500-db8846a90c60",
   "metadata": {},
   "outputs": [
    {
     "name": "stdin",
     "output_type": "stream",
     "text": [
      " 50 40 60\n"
     ]
    },
    {
     "name": "stdout",
     "output_type": "stream",
     "text": [
      "60 is greatest number\n"
     ]
    }
   ],
   "source": [
    "#2. take the three user inputs apn print the greater number from those inputs using if-else condition.Edge cases,if any,should \n",
    "# also be handeled\n",
    "a,b,c=map(int,input().split())\n",
    "if(a>b and a>c):\n",
    "    print(f\"{a} is greatest number\")\n",
    "elif(b>a and b>c):\n",
    "    print(f\"{b} is greatest number\")\n",
    "else:\n",
    "    print(f\"{c} is greatest number\")"
   ]
  },
  {
   "cell_type": "code",
   "execution_count": null,
   "id": "353dbe32-6518-4117-99c9-f0bd956383ad",
   "metadata": {},
   "outputs": [],
   "source": []
  }
 ],
 "metadata": {
  "kernelspec": {
   "display_name": "Python 3 (ipykernel)",
   "language": "python",
   "name": "python3"
  },
  "language_info": {
   "codemirror_mode": {
    "name": "ipython",
    "version": 3
   },
   "file_extension": ".py",
   "mimetype": "text/x-python",
   "name": "python",
   "nbconvert_exporter": "python",
   "pygments_lexer": "ipython3",
   "version": "3.12.7"
  }
 },
 "nbformat": 4,
 "nbformat_minor": 5
}
