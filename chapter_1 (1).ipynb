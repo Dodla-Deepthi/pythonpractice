{
 "cells": [
  {
   "cell_type": "code",
   "execution_count": 1,
   "id": "ae49d07d-0614-487a-b61d-3a941f7e60b3",
   "metadata": {},
   "outputs": [
    {
     "data": {
      "text/plain": [
       "'Features of python:\\n   1.simple and esay to learn\\n   2.easy to write and easy to debugg.\\n   3.free and open source\\n   4.interpreted.\\n   5.high-level programming language.\\n   6.object oriented programming language.\\n   7.dynmically typed programming language.\\n   8.platform independent.\\n   9.high standarded library\\n   10.large community support\\n   11.supports the GUI. etc..\\n   these are the main feautures of the python.'"
      ]
     },
     "execution_count": 1,
     "metadata": {},
     "output_type": "execute_result"
    }
   ],
   "source": [
    "\"\"\"topic-1:\n",
    "History of the python:\n",
    "   python was developed by the guido van russum in 1991\n",
    "   in simply we can say that the python is high level,object oriented and interrpreted progamming language.\"\"\"\n",
    "\"\"\"Features of python:\n",
    "   1.simple and esay to learn\n",
    "   2.easy to write and easy to debugg.\n",
    "   3.free and open source\n",
    "   4.interpreted.\n",
    "   5.high-level programming language.\n",
    "   6.object oriented programming language.\n",
    "   7.dynmically typed programming language.\n",
    "   8.platform independent.\n",
    "   9.high standarded library\n",
    "   10.large community support\n",
    "   11.supports the GUI. etc..\n",
    "   these are the main feautures of the python.\"\"\""
   ]
  },
  {
   "cell_type": "code",
   "execution_count": null,
   "id": "ace22e65-f278-42b0-98cc-7c3387e5f1f8",
   "metadata": {},
   "outputs": [],
   "source": [
    "\"\"\"topic-2:\n",
    " pip in python:\n",
    " pip is a python package manager.all the packages in python is handeled by the pip.\n",
    " for instance if we don't have some packages in python by default but if we what the pckages then we can install them by ues the pip.\n",
    " syntax:\n",
    " pip install package_name\n",
    " ex:\n",
    " pip install numpy\"\"\""
   ]
  },
  {
   "cell_type": "code",
   "execution_count": null,
   "id": "09929c14-d63f-454e-b84a-0eccc779f353",
   "metadata": {},
   "outputs": [],
   "source": []
  },
  {
   "cell_type": "code",
   "execution_count": null,
   "id": "9b96898a-d8e3-408a-abae-e143f6534786",
   "metadata": {},
   "outputs": [],
   "source": []
  },
  {
   "cell_type": "code",
   "execution_count": null,
   "id": "b38f8ccc-9c45-4dcb-8e4a-b2e6ca32873a",
   "metadata": {},
   "outputs": [],
   "source": []
  },
  {
   "cell_type": "code",
   "execution_count": null,
   "id": "97169afc-a497-495e-9755-e0dda1293986",
   "metadata": {},
   "outputs": [],
   "source": []
  }
 ],
 "metadata": {
  "kernelspec": {
   "display_name": "Python 3 (ipykernel)",
   "language": "python",
   "name": "python3"
  },
  "language_info": {
   "codemirror_mode": {
    "name": "ipython",
    "version": 3
   },
   "file_extension": ".py",
   "mimetype": "text/x-python",
   "name": "python",
   "nbconvert_exporter": "python",
   "pygments_lexer": "ipython3",
   "version": "3.12.7"
  }
 },
 "nbformat": 4,
 "nbformat_minor": 5
}
