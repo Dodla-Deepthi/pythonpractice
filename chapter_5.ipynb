{
 "cells": [
  {
   "cell_type": "code",
   "execution_count": null,
   "id": "c88d1d63-910a-439f-a6c9-d10f5ef02ccd",
   "metadata": {},
   "outputs": [],
   "source": [
    "#topic: operators\n",
    "\"\"\"operators are nothing but the symbols that are used to perform the specific task.\n",
    "   There are several types of operators  are ther in the python.They are:\n",
    "   1.arithematic operators\n",
    "   2.relational operators\n",
    "   3.logical operators\n",
    "   4.assignement operators\n",
    "   5.Identity operators\n",
    "   6.membership operators\n",
    "   7.betwise operators\"\"\""
   ]
  },
  {
   "cell_type": "code",
   "execution_count": 1,
   "id": "96393e6d-a5fa-411d-ba07-ab58ad916991",
   "metadata": {},
   "outputs": [
    {
     "name": "stdout",
     "output_type": "stream",
     "text": [
      "100\n",
      "-80\n",
      "900\n",
      "0.1111111111111111\n",
      "0\n",
      "10\n",
      "1000000000000000000000000000000000000000000000000000000000000000000000000000000000000000000\n"
     ]
    }
   ],
   "source": [
    "\"\"\"arithematic operators:\n",
    "   +,-,*,/,//,%,**\"\"\"\n",
    "a,b=10,90\n",
    "print(a+b)\n",
    "print(a-b)\n",
    "print(a*b)\n",
    "print(a/b)\n",
    "print(a//b)\n",
    "print(a%b)\n",
    "print(a**b)"
   ]
  },
  {
   "cell_type": "code",
   "execution_count": 3,
   "id": "b3197ba8-9039-4572-ad31-f34005a8841d",
   "metadata": {},
   "outputs": [
    {
     "name": "stdout",
     "output_type": "stream",
     "text": [
      "False\n",
      "False\n",
      "True\n",
      "True\n",
      "False\n",
      "True\n"
     ]
    }
   ],
   "source": [
    "\"\"\"relational operators:\n",
    "   >,>=,<,<=,==,!=\"\"\"\n",
    "a,b=30,50\n",
    "print(a>b)\n",
    "print(a>=b)\n",
    "print(a<b)\n",
    "print(a<=b)\n",
    "print(a==b)\n",
    "print(a!=b)"
   ]
  },
  {
   "cell_type": "code",
   "execution_count": 4,
   "id": "2d515d9a-a597-432d-afe4-91335f7ec3b6",
   "metadata": {},
   "outputs": [
    {
     "name": "stdout",
     "output_type": "stream",
     "text": [
      "True\n",
      "True\n",
      "False\n"
     ]
    }
   ],
   "source": [
    "\"\"\"logical operator:\n",
    "   and,or,not\"\"\"\n",
    "a,b=90,78\n",
    "print((a>80) and (b<80))\n",
    "print((a>80) or (b<80))\n",
    "print(not(a>80))"
   ]
  },
  {
   "cell_type": "code",
   "execution_count": 7,
   "id": "dd318c53-0589-4c47-a2d6-83d63b786032",
   "metadata": {},
   "outputs": [
    {
     "name": "stdout",
     "output_type": "stream",
     "text": [
      "False\n",
      "60\n",
      "50\n",
      "500\n",
      "50.0\n",
      "5.0\n",
      "9765625.0\n",
      "5.0\n"
     ]
    }
   ],
   "source": [
    "\"\"\"assignment operators:\n",
    "==,+=,-=,*=,/=,//=,%=,**= \"\"\"\n",
    "a=50\n",
    "print(a==40)\n",
    "a+=10\n",
    "print(a)\n",
    "a-=10\n",
    "print(a)\n",
    "a*=10\n",
    "print(a)\n",
    "a/=10\n",
    "print(a)\n",
    "a//=10\n",
    "print(a)\n",
    "a**=10\n",
    "print(a)\n",
    "a%=10\n",
    "print(a)\n"
   ]
  },
  {
   "cell_type": "code",
   "execution_count": 9,
   "id": "afade130-6a1e-4674-9306-1904844682ce",
   "metadata": {},
   "outputs": [
    {
     "name": "stdout",
     "output_type": "stream",
     "text": [
      "True\n",
      "False\n"
     ]
    }
   ],
   "source": [
    "\"\"\" membership operators:\n",
    "    membership operators are used to check wheather the particular element is present in the sequence or not.\n",
    "    they are two types.\n",
    "    1.In\n",
    "    2.Not In\"\"\"\n",
    "a=[10,20,30,40,50]\n",
    "print(10 in a)\n",
    "print(20 not in a)\n"
   ]
  },
  {
   "cell_type": "code",
   "execution_count": 13,
   "id": "b6c4352b-09f9-4a5a-b717-a6331c497ffc",
   "metadata": {},
   "outputs": [
    {
     "name": "stdout",
     "output_type": "stream",
     "text": [
      "True\n",
      "True\n"
     ]
    }
   ],
   "source": [
    "\"\"\"identity operator:\n",
    "   Identity operator is used to check wheather the mermory location of the two elements is same or not\n",
    "   they are two types:\n",
    "   1.Is \n",
    "   2.Is not\"\"\"\n",
    "a=10\n",
    "b=10\n",
    "print(a is b)\n",
    "a=[10,20,40]\n",
    "b=[10,20,40]\n",
    "print(a is not b)"
   ]
  },
  {
   "cell_type": "code",
   "execution_count": 14,
   "id": "6303bcf2-8faf-4031-96be-a3183207f460",
   "metadata": {},
   "outputs": [
    {
     "name": "stdout",
     "output_type": "stream",
     "text": [
      "0\n",
      "15\n",
      "15\n",
      "-11\n",
      "40\n",
      "1\n"
     ]
    }
   ],
   "source": [
    "\"\"\"betwise operator:\n",
    "   &,|,^,~,>>,<<\"\"\"\n",
    "a,b=10,5\n",
    "print(a&b)\n",
    "print(a|b)\n",
    "print(a^b)\n",
    "print(~a)\n",
    "print(a<<2)\n",
    "print(b>>2)"
   ]
  },
  {
   "cell_type": "code",
   "execution_count": null,
   "id": "e1ae712e-cd61-4469-bc79-ec38b3c414bc",
   "metadata": {},
   "outputs": [],
   "source": []
  }
 ],
 "metadata": {
  "kernelspec": {
   "display_name": "Python 3 (ipykernel)",
   "language": "python",
   "name": "python3"
  },
  "language_info": {
   "codemirror_mode": {
    "name": "ipython",
    "version": 3
   },
   "file_extension": ".py",
   "mimetype": "text/x-python",
   "name": "python",
   "nbconvert_exporter": "python",
   "pygments_lexer": "ipython3",
   "version": "3.12.7"
  }
 },
 "nbformat": 4,
 "nbformat_minor": 5
}
