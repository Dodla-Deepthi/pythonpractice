{
 "cells": [
  {
   "cell_type": "code",
   "execution_count": null,
   "id": "b885c02a-4e06-486f-b5d4-10f63e02c7d8",
   "metadata": {},
   "outputs": [],
   "source": [
    "\"\"\"Basics of python:\n",
    "   python Syntax overview:\n",
    "   In genrally python does not have any basic format to follow like in the other languages like c,c++,java.\n",
    "   basically in python first we'll do variable initalisation and write the following code.\n",
    "   As we all ready know that python is very easy to write the code and easy to understand the code.\n",
    "   in python we'll write the code with silmple english sentences or words.\"\"\""
   ]
  },
  {
   "cell_type": "code",
   "execution_count": null,
   "id": "e53abea1-a118-488a-8589-3dcb34a6ce25",
   "metadata": {},
   "outputs": [],
   "source": [
    "\"\"\" comments:\n",
    "    comments are used to provide the additional information about the code.\n",
    "    by using the cooments the people who does not have any idea about the code also can easily understand about the code.\n",
    "    In python the comments can be represented by using the \"#\".\n",
    "    If we represent any sentence with \"#\" infront of the line then the python interpreter can consider that sentence as a comment and it will ignore the\n",
    "    execution of the sentence.\n",
    "    In the python there are mainly two types of commands are there. They are:\n",
    "    1.single line comment.\n",
    "    2.multiple line comment.\n",
    "    \n",
    "    1.sinlge line comment:\n",
    "       The single line comments can be represented by using the \"#\" in sentence starting\n",
    "    2. Multiple line comments:\n",
    "       In python by default there is no multiple line comments by we can create the multiple line comments by placing the \"#\" infront of each and every line.\n",
    "       and we can also create the multiple line comment by using the \"\"\" \"\"\",\"\"\"\"\"\" \"\"\"\"\"\".\"\"\"\"\n",
    "\n",
    "    "
   ]
  },
  {
   "cell_type": "code",
   "execution_count": 1,
   "id": "9ba2b26c-4cfe-43a6-812b-39e5fa7a93b6",
   "metadata": {},
   "outputs": [
    {
     "name": "stdout",
     "output_type": "stream",
     "text": [
      "10\n"
     ]
    }
   ],
   "source": [
    "#exampke for single line comment\n",
    "a=10 # a is a variable we are assigning the 10 into the variable a.\n",
    "print(a)"
   ]
  },
  {
   "cell_type": "code",
   "execution_count": 2,
   "id": "8fc65085-2c2c-48cd-825c-1582e9f4f2cb",
   "metadata": {},
   "outputs": [
    {
     "name": "stdout",
     "output_type": "stream",
     "text": [
      "40\n"
     ]
    }
   ],
   "source": [
    "# multiple line comments\n",
    "#these is an example for multiple line comments.\n",
    "a,b=10,30\n",
    "print(a+b)"
   ]
  },
  {
   "cell_type": "code",
   "execution_count": 3,
   "id": "7300ad2f-9836-4669-bef2-77ad4c8c0ff9",
   "metadata": {},
   "outputs": [
    {
     "name": "stdout",
     "output_type": "stream",
     "text": [
      "10\n",
      "20\n",
      "30\n"
     ]
    }
   ],
   "source": [
    "\"\"\" these is the another way of creating the multiple line comments.\n",
    "    we can use two ways to create the multiple line comments\"\"\"\n",
    "a,b,c=10,20,30\n",
    "print(a)\n",
    "print(b)\n",
    "print(c)"
   ]
  },
  {
   "cell_type": "code",
   "execution_count": 5,
   "id": "1a735aad-1be1-4c5b-8bb1-53bf54d5651e",
   "metadata": {},
   "outputs": [
    {
     "name": "stdout",
     "output_type": "stream",
     "text": [
      "10\n",
      "dodla\n"
     ]
    }
   ],
   "source": [
    "# topic-2:\n",
    "#vriable decleration:\n",
    "\"\"\"variable:\n",
    "    variable is a container where we can stroes the value temporarly\"\"\"\n",
    "a=10 # In these eample  a is a variable the holds the value 10\n",
    "print(a)\n",
    "\n",
    "\"\"\"rules for naming the variables:\n",
    "   1.the variable name can be in the combination of alphabets,digits,symbols,etc..\n",
    "   2.the first letter must be an alphabets,\"_\" but it should be starting with the numbers or other special characters.\n",
    "   3.commas and the spaces are not allowed\n",
    "   4.keywords cannot be the vriable name\n",
    "   5.special chtraceters rather then the underscore cannot be used.\n",
    "   6.variable name cannot be too lenghty\n",
    "   7.mainly python is a case-sensitive\n",
    "   ex: \"Name\" is not as same as \"name\"\n",
    "\"\"\"\n",
    "Name=\"deepthi\"\n",
    "name=\"dodla\"\n",
    "print(name)\n"
   ]
  },
  {
   "cell_type": "code",
   "execution_count": 7,
   "id": "65d92c26-3b17-4c7d-8219-eb118229f2f3",
   "metadata": {},
   "outputs": [
    {
     "name": "stdout",
     "output_type": "stream",
     "text": [
      "ramesh\n",
      "chinnu\n",
      "soumesh\n"
     ]
    }
   ],
   "source": [
    "#sub-topic-1:\n",
    "#multiple words giving as a variable:\n",
    "\"\"\"In python we can also give the multiple words as a variable name:\n",
    " 1.camel case\n",
    " 2.pascal case\n",
    " 3.snake case\"\"\"\n",
    "myVarName=\"ramesh\"#camel case\n",
    "print(myVarName)\n",
    "MyVarName=\"chinnu\"#pascal case\n",
    "print(MyVarName)\n",
    "My_Var_Name=\"soumesh\"#snake case\n",
    "print(My_Var_Name)\n"
   ]
  },
  {
   "cell_type": "code",
   "execution_count": 9,
   "id": "6c8c07a1-489c-4cfb-8d7a-d438aef68857",
   "metadata": {},
   "outputs": [
    {
     "name": "stdout",
     "output_type": "stream",
     "text": [
      "10\n",
      "30\n",
      "50\n",
      "60\n",
      "10\n",
      "10\n",
      "10\n"
     ]
    }
   ],
   "source": [
    "#sub_topic-2:\n",
    "#different ways of assigning the values into the variable\n",
    "\"\"\"1.single variable assignment\n",
    "   2.multiple variable assignment\n",
    "   3.multi value assignment\"\"\"\n",
    "a=10 #single variable assignment\n",
    "print(a)\n",
    "a,b,c=30,50,60 #multi value assignment\n",
    "print(a)\n",
    "print(b)\n",
    "print(c)\n",
    "a=b=c=10 #multiple variable assignment\n",
    "print(a)\n",
    "print(b)\n",
    "print(c)\n",
    "\n",
    "    \n",
    " "
   ]
  },
  {
   "cell_type": "code",
   "execution_count": null,
   "id": "b5b722e8-3606-45a0-8bf8-f4a3f33e1686",
   "metadata": {},
   "outputs": [],
   "source": [
    "#data types \n",
    "\"\"\"data types will specifies the type of the value that we are assigning to the variable.\n",
    "   In python we no need to specifies the type of the variable explicitly based on the type of the value that we are assinging to \n",
    "   the variable the data type can be assigned automatically.\n",
    "   so the python is a dynamically typed programming language.\"\"\"\n",
    "\n",
    "\"\"\"In python there are mainly two types of data types are there.They are:\n",
    "1.primitive data type:\n",
    "   primitive data types specifies that the variable can be capable to store a single value at a time.\n",
    "   The primitive data types are stored in the stack memory \n",
    "2.non primitive data type:\n",
    "    non primitive data types can be capable to sotre multiple values at a time.\n",
    "    Non primitive data types are stored in the heap memory\n",
    "there are several data types are there in the python. They are:\n",
    "1.INT\n",
    "2.Float\n",
    "3.string\n",
    "4.boolean\n",
    "5.complex\n",
    "6.list\n",
    "7.tuple\n",
    "8.sets\n",
    "9.dictionary\n",
    "10.None\n",
    "11.Range\n",
    "12.frozenset\n",
    "13.Bytes\n",
    "14.Bytearray\"\"\""
   ]
  },
  {
   "cell_type": "code",
   "execution_count": 10,
   "id": "9218d365-00b4-441b-a97f-ce456e6b2f75",
   "metadata": {},
   "outputs": [
    {
     "name": "stdout",
     "output_type": "stream",
     "text": [
      "10 45\n"
     ]
    }
   ],
   "source": [
    "\"\"\"Integer:\n",
    "  these data type  can be capable to  stores  only the numerical values without any fractional part \"\"\"\n",
    "a=10\n",
    "b=45\n",
    "print(a,b)\n",
    "\n"
   ]
  },
  {
   "cell_type": "code",
   "execution_count": 11,
   "id": "8c7bff3d-4343-4126-9199-d571a8973bab",
   "metadata": {},
   "outputs": [
    {
     "name": "stdout",
     "output_type": "stream",
     "text": [
      "10.5\n"
     ]
    }
   ],
   "source": [
    "\"\"\"Float:\n",
    "    these data type  can be capable to  stores   the numerical values along with  fractional part\"\"\"\n",
    "num=10.5\n",
    "print(num)"
   ]
  },
  {
   "cell_type": "code",
   "execution_count": 15,
   "id": "0b7ac9da-5c80-4093-99ac-f8a40aab91b4",
   "metadata": {},
   "outputs": [
    {
     "name": "stdout",
     "output_type": "stream",
     "text": [
      "Manoj\n",
      "MAC\n",
      "these is my python class\n",
      "I'm very happy to learn the python\n"
     ]
    },
    {
     "data": {
      "text/plain": [
       "'Note:\\n   In the python \\'hello\\' is as same as \"hello\" '"
      ]
     },
     "execution_count": 15,
     "metadata": {},
     "output_type": "execute_result"
    }
   ],
   "source": [
    "\"\"\"\"String:\n",
    "      string is the sequence of one or more characters enclosed within the single quote or double quote or triple quotes\"\"\"\n",
    "Name=\"Manoj\"\n",
    "print(Name)\n",
    "department='MAC'\n",
    "print(department)\n",
    "desc=\"\"\"these is my python class\n",
    "I'm very happy to learn the python\"\"\"\n",
    "print(desc)\n",
    "\"\"\"Note:\n",
    "   In the python 'hello' is as same as \"hello\" \"\"\""
   ]
  },
  {
   "cell_type": "code",
   "execution_count": 14,
   "id": "d5f21fd6-02d8-4199-a0a4-498d3e1beed6",
   "metadata": {},
   "outputs": [
    {
     "name": "stdout",
     "output_type": "stream",
     "text": [
      "True\n"
     ]
    }
   ],
   "source": [
    "\"\"\"Boolean:\n",
    "   these data type consists of only two values \n",
    "   1.True\n",
    "   2.Flase\"\"\"\n",
    "print(20>10)\n",
    "\"\"\"note:\n",
    "   mainly it is used during the conditions\"\"\""
   ]
  },
  {
   "cell_type": "code",
   "execution_count": 16,
   "id": "373ad607-52df-497f-9717-09a31270ab60",
   "metadata": {},
   "outputs": [
    {
     "name": "stdout",
     "output_type": "stream",
     "text": [
      "(2+3j)\n"
     ]
    }
   ],
   "source": [
    "\"\"\"complex:\n",
    "   these data type can be capable to stroes the real value and imaginary value in the form of a+bj\n",
    "   \"j\" represents the imaginary part\"\"\"\n",
    "a=2+3j\n",
    "print(a)"
   ]
  },
  {
   "cell_type": "code",
   "execution_count": 19,
   "id": "8ef5fbf2-6c41-4bde-a095-8387be2717ad",
   "metadata": {},
   "outputs": [
    {
     "name": "stdout",
     "output_type": "stream",
     "text": [
      "[10, 20, 30, 40]\n",
      "mango\n",
      "[10, 'chintu', 'nani', 60]\n"
     ]
    }
   ],
   "source": [
    "\"\"\"list:\n",
    "list are used to stores the collection of items into a single variable at a time.\n",
    "the list can be represented by using [] and the items inside the list can be seperated by using comma.\n",
    "In python list are mutable that means once we create the list we can change the list by adding or deleting the values form it.\n",
    "In python list are ordered and it also allows the duplicate elements inside it.\n",
    "in the list the elements can be acess by using its index number\"\"\"\n",
    "li=[10,20,30,40]\n",
    "print(li)\n",
    "fruits=[\"mango\",\"orange\",\"apple\",\"banana\"]\n",
    "print(fruits[0])\n",
    "collection=[10,\"chintu\",\"nani\",60]\n",
    "print(collection)"
   ]
  },
  {
   "cell_type": "code",
   "execution_count": 20,
   "id": "1f3eecd5-ece9-481f-a0a9-f7a9115f1bf9",
   "metadata": {},
   "outputs": [
    {
     "name": "stdout",
     "output_type": "stream",
     "text": [
      "(10, 20, 30, 40)\n",
      "mango\n",
      "(10, 'chintu', 'nani', 60)\n"
     ]
    }
   ],
   "source": [
    "\"\"\"tuples:\n",
    "tuples are used to stores the collection of items into a single variable at a time.\n",
    "tuples are almost similar like a list but only the difference is that the tuples are immutable.\n",
    "the tuples can be represented by using () and the items inside the list can be seperated by using comma.\n",
    "In python tuples are immutable that means once we create the tuples we cannot change the tuple by adding or deleting the values form it.\n",
    "In python tuples are ordered and it also allows the duplicate elements inside it.\n",
    "in the list the elements can be acess by using its index number\"\"\"\n",
    "li=(10,20,30,40)\n",
    "print(li)\n",
    "fruits=(\"mango\",\"orange\",\"apple\",\"banana\")\n",
    "print(fruits[0])\n",
    "collection=(10,\"chintu\",\"nani\",60)\n",
    "print(collection)"
   ]
  },
  {
   "cell_type": "code",
   "execution_count": 21,
   "id": "a23eb094-fdcc-4266-968f-d9eb9d10991d",
   "metadata": {},
   "outputs": [
    {
     "name": "stdout",
     "output_type": "stream",
     "text": [
      "{40, 10, 20, 30}\n",
      "{50, 10, 60, 20}\n"
     ]
    }
   ],
   "source": [
    "\"\"\"sets:\n",
    "   sets are used to stores the collection of items into a single variable at a time.\n",
    "   the sets can be represented by using {} and the items inside the list can be seperated by using comma.\n",
    "   In python sets are mutable that means once we create the list we can change the list by adding or deleting the values form it.\n",
    "   sets are mainly unordered and non duplicated that means the sets does not contain the particular order \n",
    "   and also the sets does not allows the duplicated elements\"\"\"\n",
    "set1={10,20,30,40}\n",
    "print(set1)\n",
    "set2={60,50,50,50,50,10,20}\n",
    "print(set2)"
   ]
  },
  {
   "cell_type": "code",
   "execution_count": 23,
   "id": "7c6a8022-9230-437a-ab0d-4f67cd156410",
   "metadata": {},
   "outputs": [
    {
     "name": "stdout",
     "output_type": "stream",
     "text": [
      "chintu\n"
     ]
    }
   ],
   "source": [
    "\"\"\"Dictionary:\n",
    "   dictionary is used to stroes the collections of items into the single variable at time.\n",
    "   it is used mainly when we want to stores the data values long with it keys.\n",
    "   In the dictionary the data can be stored in the form of the key-value pair each key value can be separted by using the \":\" and each and every \n",
    "   value pair can be seperated by using the \",\".\n",
    "   In python dictionary are mutable that means once we create the dictionary we can change the dictionary by adding or deleting the values form it.\n",
    "   the dictionary is ordered and also in the dictionary the values are  duplicated but keys are non duplicated.\"\"\"\n",
    "dict1={\"s_no\":1,\"name\":\"chintu\",\"roll_no\":33}\n",
    "print(dict1[\"name\"])"
   ]
  },
  {
   "cell_type": "code",
   "execution_count": 24,
   "id": "e5d0fcde-cd42-4b38-8ea9-e02f857fca9c",
   "metadata": {},
   "outputs": [
    {
     "name": "stdout",
     "output_type": "stream",
     "text": [
      "None\n"
     ]
    }
   ],
   "source": [
    "#none\n",
    "\"\"\"None represents an empty value\"\"\"\n",
    "a=None\n",
    "print(a)"
   ]
  },
  {
   "cell_type": "code",
   "execution_count": 27,
   "id": "e246b3e3-53cf-47d0-a285-7a8117c600d0",
   "metadata": {},
   "outputs": [
    {
     "name": "stdout",
     "output_type": "stream",
     "text": [
      "[1, 3, 5, 7, 9]\n",
      "range(0, 6)\n"
     ]
    }
   ],
   "source": [
    "#range\n",
    "\"\"\"range is used to get the sequence of elements .\n",
    "   the range method consists of mainly three parameters.\n",
    "   start,end,step\n",
    "   start will specifies from which element onwards it has to start.by default the start will be \"0\".\n",
    "   end will specifies upto which element it has to get the sequence of elements.\n",
    "   step will specifies how many numbers it has to increment at each time.\"\"\"\n",
    "\n",
    "\n",
    "\"\"\"syntax: range(start,end,step)\"\"\"\n",
    "print(list(range(1,10,2)))\n",
    "print(range(6))  "
   ]
  },
  {
   "cell_type": "code",
   "execution_count": 28,
   "id": "f973a4aa-8082-4737-8540-ec3f9d25385e",
   "metadata": {},
   "outputs": [
    {
     "name": "stdout",
     "output_type": "stream",
     "text": [
      "b'\\x00\\x00\\x00\\x00\\x00'\n"
     ]
    }
   ],
   "source": [
    "\"\"\"bytes:\n",
    "   bytes are used to get the values in byte formatte .bytes data type can capable to store upto 255 not more than that.\n",
    "   bytes are immutable that means once we created we cannot change it\"\"\"\n",
    "print(bytes(5))"
   ]
  },
  {
   "cell_type": "code",
   "execution_count": 29,
   "id": "8414cc4a-12fb-4375-849e-9a07d6742f99",
   "metadata": {},
   "outputs": [
    {
     "name": "stdout",
     "output_type": "stream",
     "text": [
      "b'\\n\\x1e2CN'\n"
     ]
    }
   ],
   "source": [
    "a=[10,30,50,67,78]\n",
    "print(bytes(a))"
   ]
  },
  {
   "cell_type": "code",
   "execution_count": 30,
   "id": "f196c3cd-3545-4350-a66f-3450fdfb56a3",
   "metadata": {},
   "outputs": [
    {
     "name": "stdout",
     "output_type": "stream",
     "text": [
      "b'\\x14-8\"N'\n",
      "b'\\x14-8\"N'\n",
      "b'\\x14-8\"N'\n",
      "b'\\x14-8\"N'\n",
      "b'\\x14-8\"N'\n"
     ]
    }
   ],
   "source": [
    "a=[20,45,56,34,78]\n",
    "for i in a:\n",
    "    print(bytes(a))"
   ]
  },
  {
   "cell_type": "code",
   "execution_count": 32,
   "id": "c29d4563-3033-416c-b8af-b000e26c9e9a",
   "metadata": {},
   "outputs": [
    {
     "name": "stdout",
     "output_type": "stream",
     "text": [
      "bytearray(b'\\x00\\x00\\x00\\x00\\x00')\n",
      "bytearray(b'\\n\\x1e2CN')\n",
      "bytearray(b'\\x14-8\"N')\n",
      "bytearray(b'\\x14-8\"N')\n",
      "bytearray(b'\\x14-8\"N')\n",
      "bytearray(b'\\x14-8\"N')\n",
      "bytearray(b'\\x14-8\"N')\n"
     ]
    }
   ],
   "source": [
    "\"\"\"bytearray:\n",
    "   bytes are used to get the values in byte formatte .bytes data type can capable to store upto 255 not more than that.\n",
    "   bytes and bytearray both are similar but only the difference is bytearray is mutable.\n",
    "   bytearry are mutable that means once we created we can change it\"\"\"\n",
    "print(bytearray(5))\n",
    "a=[10,30,50,67,78]\n",
    "print(bytearray(a))\n",
    "a=[20,45,56,34,78]\n",
    "for i in a:\n",
    "    print(bytearray(a))"
   ]
  },
  {
   "cell_type": "code",
   "execution_count": 33,
   "id": "0a0ae4be-833b-4fd5-af9b-0cfb8716e8d1",
   "metadata": {},
   "outputs": [
    {
     "name": "stdout",
     "output_type": "stream",
     "text": [
      "frozenset({40, 50, 20, 60})\n"
     ]
    }
   ],
   "source": [
    "\"\"\"frozenset:\n",
    "forzenset is almost similar to the set but only the difference is frozenset is immutable that mean once it is created we cannot change it\"\"\"\n",
    "a=frozenset({20,40,50,60})\n",
    "print(a)"
   ]
  },
  {
   "cell_type": "code",
   "execution_count": null,
   "id": "39759268-c52a-4b36-abe3-b9de4d46ca76",
   "metadata": {},
   "outputs": [],
   "source": []
  }
 ],
 "metadata": {
  "kernelspec": {
   "display_name": "Python 3 (ipykernel)",
   "language": "python",
   "name": "python3"
  },
  "language_info": {
   "codemirror_mode": {
    "name": "ipython",
    "version": 3
   },
   "file_extension": ".py",
   "mimetype": "text/x-python",
   "name": "python",
   "nbconvert_exporter": "python",
   "pygments_lexer": "ipython3",
   "version": "3.12.7"
  }
 },
 "nbformat": 4,
 "nbformat_minor": 5
}
