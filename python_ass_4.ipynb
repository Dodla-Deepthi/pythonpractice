{
 "cells": [
  {
   "cell_type": "code",
   "execution_count": null,
   "id": "5ba0fe37-8684-4f5c-b9d7-2d1ba6ea1236",
   "metadata": {},
   "outputs": [],
   "source": [
    "\"\"\"Problem Statement:\n",
    "You work in XYZ Corporation as a Data Analyst. Your corporation has told you to\n",
    "use the NumPy package and do some tasks related to that.\"\"\"\n"
   ]
  },
  {
   "cell_type": "code",
   "execution_count": 1,
   "id": "ba93f3e4-ff22-47a6-92cd-d1a18a3dc98e",
   "metadata": {},
   "outputs": [
    {
     "name": "stdout",
     "output_type": "stream",
     "text": [
      "[[4 4 5]\n",
      " [5 8 6]\n",
      " [8 5 5]]\n"
     ]
    }
   ],
   "source": [
    "#Tasks To Be Performed:\n",
    "#1. Create a 3x3 matrix array with values ranging from 2 to 10.\n",
    "import numpy as np\n",
    "data=np.random.randint(2,10,(3,3))\n",
    "print(data)"
   ]
  },
  {
   "cell_type": "code",
   "execution_count": 8,
   "id": "04ee4a22-bba8-43ea-8f17-6b529d012908",
   "metadata": {},
   "outputs": [
    {
     "name": "stdin",
     "output_type": "stream",
     "text": [
      " 1 2 3 4 5\n"
     ]
    },
    {
     "name": "stdout",
     "output_type": "stream",
     "text": [
      "[1 2 3 4 5]\n",
      "<class 'numpy.ndarray'>\n",
      "['1' '2' '3' '4' '5']\n"
     ]
    }
   ],
   "source": [
    "\"\"\"2. Create a NumPy array having user input values and convert the integer\n",
    "type to the float type of the elements of the array. For instance: Original\n",
    "array [1, 2, 3, 4] Array converted to a float type: [ 1. 2. 3. 4.]\"\"\"\n",
    "import numpy as np\n",
    "arr=list(map(int,input().split()))\n",
    "nu_array=np.array(arr)\n",
    "print(nu_array)\n",
    "print(type(nu_array))\n",
    "print(nu_array.astype(float))\n"
   ]
  },
  {
   "cell_type": "code",
   "execution_count": 15,
   "id": "4c166e70-978d-46e1-b190-b95d8b997970",
   "metadata": {},
   "outputs": [
    {
     "name": "stdin",
     "output_type": "stream",
     "text": [
      " 10 20 30\n",
      " 40 50 60 70 80 90\n"
     ]
    },
    {
     "data": {
      "text/plain": [
       "array([10, 20, 30, 40, 50, 60, 70, 80, 90])"
      ]
     },
     "execution_count": 15,
     "metadata": {},
     "output_type": "execute_result"
    }
   ],
   "source": [
    "\"\"\"3. Write a NumPy program to append values to the end of an array. For\n",
    "instance: Original array: [10, 20, 30] . After that, append values to the end\n",
    "of the array: [10 20 30 40 50 60 70 80 90]\"\"\"\n",
    "array=list(map(int,input().split()))\n",
    "arr1=np.array(array)\n",
    "num=list(map(int,input().split()))\n",
    "num=np.array(num)\n",
    "np.append(arr1,num)"
   ]
  },
  {
   "cell_type": "code",
   "execution_count": 16,
   "id": "0e3e7ed1-527c-49ae-9138-17516165ace5",
   "metadata": {},
   "outputs": [
    {
     "name": "stdin",
     "output_type": "stream",
     "text": [
      " 10 20 30 40\n",
      " 50 60 70 80\n"
     ]
    },
    {
     "name": "stdout",
     "output_type": "stream",
     "text": [
      "[ 60  80 100 120]\n"
     ]
    }
   ],
   "source": [
    "\"\"\"4. Create two NumPy arrays and add the elements of both the arrays and\n",
    "store the result in sumArray.\"\"\"\n",
    "np_arr1=list(map(int,input().split()))\n",
    "np_arr1=np.array(np_arr1)\n",
    "np_arr2=list(map(int,input().split()))\n",
    "np_arr2=np.array(np_arr2)\n",
    "sumArray=np_arr1+np_arr2\n",
    "print(sumArray)"
   ]
  },
  {
   "cell_type": "code",
   "execution_count": 24,
   "id": "62af0726-0868-4479-8359-93c32e5b6d35",
   "metadata": {},
   "outputs": [
    {
     "name": "stdout",
     "output_type": "stream",
     "text": [
      "[[10 20 30]\n",
      " [40 50 60]\n",
      " [70 80 90]]\n",
      "[10 20 30]\n",
      "90\n"
     ]
    }
   ],
   "source": [
    "\"\"\"5. Create a 3x3 array having values from 10-90 (interval of 10) and store that\n",
    "in array1\n",
    "Perform the following tasks:\n",
    "a. Extract the 1st row from the array\n",
    "b. Extract the last element from the array\"\"\"\n",
    "array1=np.arange(10,100,10)\n",
    "array1.shape=(3,3)\n",
    "print(array1)\n",
    "print(array1[0,0:])\n",
    "print(array1[2,2])"
   ]
  },
  {
   "cell_type": "code",
   "execution_count": null,
   "id": "0ae99601-688a-466c-99cb-336924dedb0d",
   "metadata": {},
   "outputs": [],
   "source": []
  }
 ],
 "metadata": {
  "kernelspec": {
   "display_name": "Python 3 (ipykernel)",
   "language": "python",
   "name": "python3"
  },
  "language_info": {
   "codemirror_mode": {
    "name": "ipython",
    "version": 3
   },
   "file_extension": ".py",
   "mimetype": "text/x-python",
   "name": "python",
   "nbconvert_exporter": "python",
   "pygments_lexer": "ipython3",
   "version": "3.12.7"
  }
 },
 "nbformat": 4,
 "nbformat_minor": 5
}
