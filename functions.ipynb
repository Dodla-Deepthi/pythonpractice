{
 "cells": [
  {
   "cell_type": "code",
   "execution_count": null,
   "id": "11d45ff5-572f-4bed-9cca-15479abb3099",
   "metadata": {},
   "outputs": [],
   "source": [
    "#functions \n",
    "\"\"\" function:\n",
    "    function is a self contained program segment that are used to perform the specific task.\n",
    "                      or\n",
    "    function is a block of code that are used to perform the specific task\"\"\"\n",
    "\"\"\"advantages:\n",
    "   1.modularity\n",
    "   2.resuability\n",
    "   3.maintainability\n",
    "   4.easy for debugging\"\"\""
   ]
  },
  {
   "cell_type": "code",
   "execution_count": 2,
   "id": "681fada6-9130-42f4-a39c-703dcb94e4cf",
   "metadata": {},
   "outputs": [
    {
     "name": "stdout",
     "output_type": "stream",
     "text": [
      "50\n"
     ]
    }
   ],
   "source": [
    "#creating of a function\n",
    "def add(a,b):\n",
    "    return a+b\n",
    "#calling a function\n",
    "res=add(20,30)\n",
    "print(res)"
   ]
  },
  {
   "cell_type": "code",
   "execution_count": 3,
   "id": "ada96eea-a425-48a4-ab00-4d2674a225f1",
   "metadata": {},
   "outputs": [
    {
     "name": "stdout",
     "output_type": "stream",
     "text": [
      "200\n"
     ]
    }
   ],
   "source": [
    "#different ways of passing parameters\n",
    "#positional arguments\n",
    "def multiply(a,b):\n",
    "    return a*b\n",
    "res=multiply(10,20)\n",
    "print(res)"
   ]
  },
  {
   "cell_type": "code",
   "execution_count": 4,
   "id": "c3f64076-ed8a-4a85-8ad1-63ae50e2c5d2",
   "metadata": {},
   "outputs": [
    {
     "name": "stdout",
     "output_type": "stream",
     "text": [
      "90000\n"
     ]
    }
   ],
   "source": [
    "#keyword arguments\n",
    "def practice(a,b,c):\n",
    "    return a*b*c\n",
    "res=practice(b=20,a=50,c=90)\n",
    "print(res)"
   ]
  },
  {
   "cell_type": "code",
   "execution_count": 5,
   "id": "f4e449d5-560c-4e44-9fe8-af6bd776cbc7",
   "metadata": {},
   "outputs": [
    {
     "name": "stdout",
     "output_type": "stream",
     "text": [
      "150\n"
     ]
    }
   ],
   "source": [
    "#default arguments\n",
    "def addition(a,b,c=80):\n",
    "    return a+b+c\n",
    "res=addition(30,40)\n",
    "print(res)"
   ]
  },
  {
   "cell_type": "code",
   "execution_count": 6,
   "id": "96d17b18-994d-4358-ae9f-af7aba5d4e29",
   "metadata": {},
   "outputs": [
    {
     "name": "stdout",
     "output_type": "stream",
     "text": [
      "130\n"
     ]
    }
   ],
   "source": [
    "#*args\n",
    "def addition(*a):\n",
    "    return sum(a)\n",
    "res=addition(10,30,40,50)\n",
    "print(res)"
   ]
  },
  {
   "cell_type": "code",
   "execution_count": 9,
   "id": "f1ed2ba2-fe02-4159-b3d0-07208a34de39",
   "metadata": {},
   "outputs": [
    {
     "name": "stdout",
     "output_type": "stream",
     "text": [
      "name : deepthi\n",
      "rollno : 38\n",
      "dept : MCA\n"
     ]
    }
   ],
   "source": [
    "#**kwargs\n",
    "def person_details(**person):\n",
    "    for key,value in person.items():\n",
    "        print(f\"{key} : {value}\")\n",
    "person_details(name=\"deepthi\",rollno=38,dept=\"MCA\")\n"
   ]
  },
  {
   "cell_type": "code",
   "execution_count": 10,
   "id": "d5371adf-1a8f-4cc1-ab4d-f2087389ecc8",
   "metadata": {},
   "outputs": [
    {
     "name": "stdout",
     "output_type": "stream",
     "text": [
      "70\n"
     ]
    }
   ],
   "source": [
    "#lambda function\n",
    "var=lambda a,b:a+b\n",
    "print(var(30,40))"
   ]
  },
  {
   "cell_type": "code",
   "execution_count": null,
   "id": "6630e980-25aa-44fd-83ed-39001a35a7d8",
   "metadata": {},
   "outputs": [],
   "source": []
  }
 ],
 "metadata": {
  "kernelspec": {
   "display_name": "Python 3 (ipykernel)",
   "language": "python",
   "name": "python3"
  },
  "language_info": {
   "codemirror_mode": {
    "name": "ipython",
    "version": 3
   },
   "file_extension": ".py",
   "mimetype": "text/x-python",
   "name": "python",
   "nbconvert_exporter": "python",
   "pygments_lexer": "ipython3",
   "version": "3.12.7"
  }
 },
 "nbformat": 4,
 "nbformat_minor": 5
}
