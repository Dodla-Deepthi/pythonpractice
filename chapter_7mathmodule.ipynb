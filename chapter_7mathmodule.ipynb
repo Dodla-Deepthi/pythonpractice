{
 "cells": [
  {
   "cell_type": "code",
   "execution_count": 7,
   "id": "1df0faa4-b36d-44e3-b3d3-3afafc62ece4",
   "metadata": {},
   "outputs": [
    {
     "name": "stdout",
     "output_type": "stream",
     "text": [
      "3.141592653589793\n",
      "7.38905609893065\n",
      "3.1622776601683795\n",
      "-0.9880316240928618\n",
      "-0.9524129804151563\n",
      "1.6197751905438615\n",
      "729.0\n",
      "60\n",
      "5\n"
     ]
    }
   ],
   "source": [
    "from math import *\n",
    "print(pi)\n",
    "print(exp(4))\n",
    "print(pow(4,6))\n",
    "print(tu)\n",
    "print(sqrt(25))\n",
    "print(ceil(45.6))\n",
    "print(floor(68.4))\n",
    "print(mod(6,)\n"
   ]
  },
  {
   "cell_type": "code",
   "execution_count": 5,
   "id": "9ab4f649-fc59-4819-ac21-43c927dc60e6",
   "metadata": {},
   "outputs": [
    {
     "name": "stdout",
     "output_type": "stream",
     "text": [
      "6.283185307179586\n"
     ]
    }
   ],
   "source": []
  },
  {
   "cell_type": "code",
   "execution_count": 6,
   "id": "d4eb571c-7e5d-457b-8a90-110f249cda4d",
   "metadata": {},
   "outputs": [
    {
     "name": "stdout",
     "output_type": "stream",
     "text": [
      "36\n",
      "53\n"
     ]
    }
   ],
   "source": []
  },
  {
   "cell_type": "code",
   "execution_count": null,
   "id": "3d005cd2-e625-4017-882d-56760d5989cb",
   "metadata": {},
   "outputs": [],
   "source": []
  }
 ],
 "metadata": {
  "kernelspec": {
   "display_name": "Python 3 (ipykernel)",
   "language": "python",
   "name": "python3"
  },
  "language_info": {
   "codemirror_mode": {
    "name": "ipython",
    "version": 3
   },
   "file_extension": ".py",
   "mimetype": "text/x-python",
   "name": "python",
   "nbconvert_exporter": "python",
   "pygments_lexer": "ipython3",
   "version": "3.12.7"
  }
 },
 "nbformat": 4,
 "nbformat_minor": 5
}
