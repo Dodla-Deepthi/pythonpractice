{
 "cells": [
  {
   "cell_type": "code",
   "execution_count": 9,
   "id": "c81f710e-d911-49d6-a709-d5f52b4fd034",
   "metadata": {},
   "outputs": [
    {
     "name": "stdout",
     "output_type": "stream",
     "text": [
      "(10, 20, 30, 40, 50, 60)\n",
      "(10, 20, 30, 40, 50, 60, 10, 20, 30, 40, 50, 60, 10, 20, 30, 40, 50, 60)\n",
      "40\n",
      "(10, 20, 30)\n",
      "(40, 50, 60)\n"
     ]
    }
   ],
   "source": [
    "#assignment -1\n",
    "#problem Statement:\n",
    "\"\"\"Consider yourself to be Sam who is a data scientist.He hs been invited as a guest lecturer at a college \n",
    "   to take an introductory session on python.\"\"\"\n",
    "#Task to be performed:\n",
    "\"\"\"1.Create 1st tuple with values->(10,20,30),2nd tuple with values->(40,50,60).\"\"\"\n",
    "tuple1=(10,20,30)\n",
    "tuple2=(40,50,60)\n",
    "#a. concatenate the two tuples and stoer it in \"\"t_combine\".\n",
    "t_combine=tuple1+tuple2\n",
    "print(t_combine)\n",
    "#b.repeat the elements of \"t_combine\" 3 times\n",
    "print(t_combine *3)\n",
    "#acess the third element from t_combine\n",
    "print(t_combine[3])\n",
    "#acess the first three elements from t_combine\n",
    "print(t_combine[0:3])\n",
    "#acess the last three elements from t_combine\n",
    "print(t_combine[-3:])"
   ]
  },
  {
   "cell_type": "code",
   "execution_count": 10,
   "id": "f9428cef-2ab6-4407-a0d8-d0cb99404b4f",
   "metadata": {},
   "outputs": [
    {
     "name": "stdout",
     "output_type": "stream",
     "text": [
      "[(1, 2, 3), ('a', 'b', 'c'), ('True', 'False')]\n"
     ]
    }
   ],
   "source": [
    "\"\"\"2. Create a list \"my_list\" with these elements\n",
    "    a.first elements is a tuple with values 1,2,3\n",
    "    b.second element is a tuple with values \"a\",\"b\",\"c\".\n",
    "    c.Third element is a tuple with values True,False\"\"\"\n",
    "my_list=[(1,2,3),(\"a\",\"b\",\"c\"),(\"True\",\"False\")]\n",
    "print(my_list)\n"
   ]
  },
  {
   "cell_type": "code",
   "execution_count": 12,
   "id": "d6e571a6-feda-425b-81e5-3730744a3e33",
   "metadata": {},
   "outputs": [
    {
     "name": "stdout",
     "output_type": "stream",
     "text": [
      "[(1, 2, 3), ('a', 'b', 'c'), ('True', 'False'), (1, 'a', True), (1, 'a', True), ['sparta', 123]]\n"
     ]
    }
   ],
   "source": [
    "\"\"\"3.Append a new tuple-(1.\"a\",True) to my_list:\n",
    "   a.Append a new list-\"sparta\",123+to my_list.\"\"\"\n",
    "my_list.append((1,\"a\",True))\n",
    "my_list.append([\"sparta\",123])\n",
    "print(my_list)"
   ]
  },
  {
   "cell_type": "code",
   "execution_count": 17,
   "id": "27ed4ddd-b9c0-4a88-9014-46fd5101cd5b",
   "metadata": {},
   "outputs": [
    {
     "name": "stdout",
     "output_type": "stream",
     "text": [
      "{'Friut': ('Apple', 'Banana', 'Mango', 'Guava'), 'cost': (85, 54, 120, 70)}\n",
      "dict_keys(['Friut', 'cost'])\n"
     ]
    }
   ],
   "source": [
    "\"\"\"4.Create a dictionary \"fruit\" where:\n",
    "a.The first key is \"Fruit\" and the values are (\"Apple\",\"Banana\",\"Mango\",\"Guava\" \"\"\"\n",
    "fruit={}\n",
    "fruit[\"Friut\"]=(\"Apple\",\"Banana\",\"Mango\",\"Guava\")\n",
    "#b. The second key is \"Cost\" and the vlues are (85,54,120,70)\n",
    "fruit[\"cost\"]=(85,54,120,70)\n",
    "#c.Extract all the keys from \"fruit\"\n",
    "print(fruit)\n",
    "print(fruit.keys())\n",
    "#d. Extract all the values form fruit.\n",
    "print(fruit.values())"
   ]
  },
  {
   "cell_type": "code",
   "execution_count": 18,
   "id": "08a9f1a3-1ee5-4704-90da-df52732c3c60",
   "metadata": {},
   "outputs": [
    {
     "name": "stdout",
     "output_type": "stream",
     "text": [
      "{1, 'a'}\n"
     ]
    }
   ],
   "source": [
    "#5.Create a set named \"my_set\" with values (1,1,\"a\",\"a\",True,True) and print the result\n",
    "my_set={1,1,\"a\",\"a\",True,True}\n",
    "print(my_set)\n"
   ]
  },
  {
   "cell_type": "code",
   "execution_count": null,
   "id": "12c02af3-cd0d-4846-b83a-8597a4fac762",
   "metadata": {},
   "outputs": [],
   "source": []
  }
 ],
 "metadata": {
  "kernelspec": {
   "display_name": "Python 3 (ipykernel)",
   "language": "python",
   "name": "python3"
  },
  "language_info": {
   "codemirror_mode": {
    "name": "ipython",
    "version": 3
   },
   "file_extension": ".py",
   "mimetype": "text/x-python",
   "name": "python",
   "nbconvert_exporter": "python",
   "pygments_lexer": "ipython3",
   "version": "3.12.7"
  }
 },
 "nbformat": 4,
 "nbformat_minor": 5
}
