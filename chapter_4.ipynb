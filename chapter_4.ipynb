{
 "cells": [
  {
   "cell_type": "code",
   "execution_count": 3,
   "id": "44e98c8d-5575-4157-aec5-779020bc7eb4",
   "metadata": {},
   "outputs": [
    {
     "name": "stdout",
     "output_type": "stream",
     "text": [
      "ramesh\n",
      "hello\n",
      " this is my first programme\n",
      "we are soo exicted to learn python\n"
     ]
    }
   ],
   "source": [
    "#topic: strings\n",
    "\"\"\"string:\n",
    "   string is the sequence of one or more characters enclosed with in the single quote or double quote or triple quote\"\"\"\n",
    "name=\"ramesh\"\n",
    "print(name)\n",
    "a='hello'\n",
    "print(a)\n",
    "desc=\"\"\" this is my first programme\n",
    "we are soo exicted to learn python\"\"\"\n",
    "print(desc)"
   ]
  },
  {
   "cell_type": "code",
   "execution_count": 4,
   "id": "2fc82ee4-a9b3-4073-9c25-d6bd0f55d82b",
   "metadata": {},
   "outputs": [
    {
     "name": "stdout",
     "output_type": "stream",
     "text": [
      "c\n"
     ]
    }
   ],
   "source": [
    "#string are immutable that means once we created we cannot change it.\n",
    "#string operations\n",
    "name=\"chinnu123\"\n",
    "print(name[0])"
   ]
  },
  {
   "cell_type": "code",
   "execution_count": 5,
   "id": "5029c638-8ca8-4e05-91df-e7ade0ba2b25",
   "metadata": {},
   "outputs": [
    {
     "name": "stdout",
     "output_type": "stream",
     "text": [
      "u\n"
     ]
    }
   ],
   "source": [
    "#negative indexing\n",
    "print(name[-1])"
   ]
  },
  {
   "cell_type": "code",
   "execution_count": 6,
   "id": "e28758db-14a3-4587-9359-d0bb09f4a8a0",
   "metadata": {},
   "outputs": [
    {
     "name": "stdout",
     "output_type": "stream",
     "text": [
      "chin\n",
      "nnu\n",
      "hin\n"
     ]
    }
   ],
   "source": [
    "print(name[:4])\n",
    "print(name[3:])\n",
    "print(name[1:4])"
   ]
  },
  {
   "cell_type": "code",
   "execution_count": 7,
   "id": "cc7ebf47-818b-4daf-88a0-af488b012632",
   "metadata": {},
   "outputs": [
    {
     "name": "stdout",
     "output_type": "stream",
     "text": [
      "chin\n"
     ]
    }
   ],
   "source": [
    "print(name[:-2])"
   ]
  },
  {
   "cell_type": "code",
   "execution_count": 12,
   "id": "6b13cd28-3079-4eb1-8dd6-32dbbc819bf1",
   "metadata": {},
   "outputs": [
    {
     "name": "stdout",
     "output_type": "stream",
     "text": [
      "CHINNU\n",
      "chinnu\n",
      "Chinnu\n",
      "CHINNU\n",
      "Chinnu\n"
     ]
    }
   ],
   "source": [
    "#string operations\n",
    "print(name.upper())\n",
    "print(name.lower())\n",
    "print(name.capitalize())\n",
    "print(name.swapcase())\n",
    "print(name.title())"
   ]
  },
  {
   "cell_type": "code",
   "execution_count": 10,
   "id": "e9c237ff-c28c-48ee-9f06-71706c3d70c9",
   "metadata": {},
   "outputs": [
    {
     "name": "stdout",
     "output_type": "stream",
     "text": [
      "0\n",
      "0\n",
      "1\n",
      "False\n",
      "False\n",
      "False\n",
      "True\n",
      "True\n",
      "['chintu1234']\n",
      "d e e p t h i\n",
      "7\n",
      "<class 'str'>\n",
      "chontu1234\n",
      "['1', '2', '3', '4', 'c', 'h', 'i', 'n', 't', 'u']\n",
      "deepthi\n",
      "  deepthi\n",
      "deepthi  \n"
     ]
    }
   ],
   "source": [
    "var=\"chintu1234\"\n",
    "print(var.index(\"c\"))\n",
    "print(var.find(\"c\"))\n",
    "print(var.count(\"n\"))\n",
    "print(var.isalpha())\n",
    "print(var.isdigit())\n",
    "print(var.isnumeric())\n",
    "print(var.isalnum())\n",
    "print(var.isalnum()==True)\n",
    "print(var.split(\" \"))\n",
    "print(\" \".join(\"deepthi\"))\n",
    "print(len(\"deepthi\"))\n",
    "print(type(var))\n",
    "print(var.replace(\"i\",\"o\"))\n",
    "print(sorted(var))\n",
    "num=\"  deepthi  \"\n",
    "print(num.strip())\n",
    "print(num.rstrip())\n",
    "print(num.lstrip())\n"
   ]
  },
  {
   "cell_type": "code",
   "execution_count": 17,
   "id": "83a89a80-ab19-46a2-89e8-85d7795b3a89",
   "metadata": {},
   "outputs": [
    {
     "name": "stdout",
     "output_type": "stream",
     "text": [
      "True\n"
     ]
    }
   ],
   "source": [
    "print(name.startswith(\"c\"))"
   ]
  },
  {
   "cell_type": "code",
   "execution_count": 18,
   "id": "3d941bd8-8a91-423b-8e45-64b97627ae21",
   "metadata": {},
   "outputs": [
    {
     "name": "stdout",
     "output_type": "stream",
     "text": [
      "True\n"
     ]
    }
   ],
   "source": [
    "print(name.endswith(\"u\"))"
   ]
  },
  {
   "cell_type": "code",
   "execution_count": null,
   "id": "2438ae1b-beaa-482d-82c7-43ef4b2a7538",
   "metadata": {},
   "outputs": [],
   "source": []
  }
 ],
 "metadata": {
  "kernelspec": {
   "display_name": "Python 3 (ipykernel)",
   "language": "python",
   "name": "python3"
  },
  "language_info": {
   "codemirror_mode": {
    "name": "ipython",
    "version": 3
   },
   "file_extension": ".py",
   "mimetype": "text/x-python",
   "name": "python",
   "nbconvert_exporter": "python",
   "pygments_lexer": "ipython3",
   "version": "3.12.7"
  }
 },
 "nbformat": 4,
 "nbformat_minor": 5
}
