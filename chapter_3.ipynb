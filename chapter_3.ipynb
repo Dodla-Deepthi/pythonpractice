{
 "cells": [
  {
   "cell_type": "code",
   "execution_count": 1,
   "id": "5ac2d6a3-0c43-4fc7-8ade-b13e891f4baf",
   "metadata": {},
   "outputs": [
    {
     "name": "stdout",
     "output_type": "stream",
     "text": [
      "30.5\n"
     ]
    }
   ],
   "source": [
    "#type conversion:\n",
    "\"\"\" type conversion is the process of converting the values form one data type to the another data type.\n",
    "    there are mainly two types of type conversions.they are:\n",
    "    1.Implict type converstion\n",
    "    2.explict type convertion\"\"\"\n",
    "\"\"\"1.Implict type convertion:\n",
    "   the type conversion can be done automatically by the system without any user interruption.\"\"\"\n",
    "a=10\n",
    "b=20.5\n",
    "print(a+b)\n"
   ]
  },
  {
   "cell_type": "code",
   "execution_count": 16,
   "id": "8ec1531f-6e79-4559-956d-99ace4b2d2c6",
   "metadata": {},
   "outputs": [
    {
     "name": "stdout",
     "output_type": "stream",
     "text": [
      "67.0\n",
      "50\n",
      "67\n",
      "True\n",
      "(20+30j)\n",
      "[10, 20, 30, 40]\n",
      "(10, 20, 30, 40)\n",
      "{40, 10, 20, 30}\n",
      "{1: 20, 2: 30, 3: 45, 4: 13, 5: 67}\n",
      "65\n",
      "A\n",
      "0b1010\n",
      "0o12\n",
      "0xa\n",
      "10\n"
     ]
    }
   ],
   "source": [
    "\"\"\"2.Explict type convertion:\n",
    "    the type conversion that can be done by the users but not the system itself is called as Eplict type convertion.\n",
    "    there are several methods are there to make the explict type convertion.\n",
    "    they are:\n",
    "    1.Int()\n",
    "    2.float()\n",
    "    3.str()\n",
    "    4.bool()\n",
    "    5.complex()\n",
    "    6.list()\n",
    "    7.tuple()\n",
    "    8.sets()\n",
    "    9.dict()\n",
    "    10.forzenset()\n",
    "    11.bytes()\n",
    "    12.bytearray()\n",
    "    13.ord()\n",
    "    14.chr()\n",
    "    15.bin()\n",
    "    16.oct()\n",
    "    17.hex()\n",
    "    18.dec()\"\"\"\n",
    "a=67\n",
    "print(float(a))\n",
    "b=50.0\n",
    "print(int(b))\n",
    "c=str(a)\n",
    "print(c)\n",
    "d=bool(\"true\")\n",
    "print(d)\n",
    "a,b=20,30\n",
    "print(complex(a,b))\n",
    "li=(10,20,30,40)\n",
    "print(list(li))\n",
    "print(tuple(li))\n",
    "print(set(li))\n",
    "li1=(1,2,3,4,5)\n",
    "li2=(20,30,45,13,67)\n",
    "print(dict(zip(li1,li2)))\n",
    "print(ord(\"A\"))\n",
    "print(chr(65))\n",
    "print(bin(10))\n",
    "print(oct(10))\n",
    "print(hex(10))\n",
    "print(int(\"1010\",2))"
   ]
  },
  {
   "cell_type": "code",
   "execution_count": 24,
   "id": "4915798f-b804-4c04-8637-cf6b31918b6c",
   "metadata": {},
   "outputs": [
    {
     "name": "stdout",
     "output_type": "stream",
     "text": [
      "10\n",
      "No Python documentation found for 'a'.\n",
      "Use help() to get the interactive help utility.\n",
      "Use help(str) for help on the str class.\n",
      "\n",
      "140731540057560\n",
      "<class 'str'>\n"
     ]
    },
    {
     "ename": "NameError",
     "evalue": "name 'sizeof' is not defined",
     "output_type": "error",
     "traceback": [
      "\u001b[1;31m---------------------------------------------------------------------------\u001b[0m",
      "\u001b[1;31mNameError\u001b[0m                                 Traceback (most recent call last)",
      "Cell \u001b[1;32mIn[24], line 34\u001b[0m\n\u001b[0;32m     31\u001b[0m \u001b[38;5;66;03m#sizeof()\u001b[39;00m\n\u001b[0;32m     32\u001b[0m \u001b[38;5;66;03m#sizeof() is used to get the size of the particular data type\u001b[39;00m\n\u001b[0;32m     33\u001b[0m a\u001b[38;5;241m=\u001b[39m\u001b[38;5;241m10\u001b[39m\n\u001b[1;32m---> 34\u001b[0m \u001b[38;5;28mprint\u001b[39m(sizeof(\u001b[38;5;241m10\u001b[39m))\n",
      "\u001b[1;31mNameError\u001b[0m: name 'sizeof' is not defined"
     ]
    }
   ],
   "source": [
    "#subtopic-2\n",
    "#namespaces\n",
    "\"\"\"namespaces:\n",
    "   namespaces are the built in methods that are created when the python is builded and it is available as long as the python interpreter run.\n",
    "   there are mainly six data types are there.They are:\n",
    "   print()\n",
    "   type()\n",
    "   id()\n",
    "   dir()\n",
    "   help()\n",
    "   sizeof()\"\"\"\n",
    "#print()\n",
    "#print() is used to get the output.\n",
    "print(10)\n",
    "\n",
    "#help()\n",
    "#these help() will help us to get the description  about any object when even we does not know about anything\n",
    "a=10\n",
    "help(\"a\")\n",
    "\n",
    "#id()\n",
    "#id() is to get the memory location of the particular variable\n",
    "a=34\n",
    "print(id(a))\n",
    "\n",
    "#type()\n",
    "#type() is used to get the data type of the particular variable\n",
    "name=\"dodla\"\n",
    "print(type(name))\n",
    "\n",
    "#sizeof()\n",
    "#sizeof() is used to get the size of the particular data type\n",
    "a=10\n",
    "print(sizeof(10))\n"
   ]
  },
  {
   "cell_type": "code",
   "execution_count": null,
   "id": "51a71d2f-3cd7-40b0-beb2-bee788740b04",
   "metadata": {},
   "outputs": [],
   "source": []
  }
 ],
 "metadata": {
  "kernelspec": {
   "display_name": "Python 3 (ipykernel)",
   "language": "python",
   "name": "python3"
  },
  "language_info": {
   "codemirror_mode": {
    "name": "ipython",
    "version": 3
   },
   "file_extension": ".py",
   "mimetype": "text/x-python",
   "name": "python",
   "nbconvert_exporter": "python",
   "pygments_lexer": "ipython3",
   "version": "3.12.7"
  }
 },
 "nbformat": 4,
 "nbformat_minor": 5
}
