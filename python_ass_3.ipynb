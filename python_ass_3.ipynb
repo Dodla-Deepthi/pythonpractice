{
 "cells": [
  {
   "cell_type": "code",
   "execution_count": null,
   "id": "bbe2c4a4-ca7c-4894-a965-be0412fb279e",
   "metadata": {},
   "outputs": [],
   "source": [
    "\"\"\"Problem Statement:\n",
    "You work in XYZ Corporation as a Data Analyst. Your corporation has told you to\n",
    "work with the structure of the data.\"\"\"\n"
   ]
  },
  {
   "cell_type": "code",
   "execution_count": 28,
   "id": "814dd9e8-655f-4c3d-b116-f22554b2c4df",
   "metadata": {},
   "outputs": [
    {
     "name": "stdout",
     "output_type": "stream",
     "text": [
      "[10, 20, 30, 'apple', True, 8.1]\n",
      "[10, 20, 30, 'apple', True, 8.1, 30, 40]\n",
      "['apple', 'True', '8.1', '40', '30', '30', '20', '10']\n"
     ]
    }
   ],
   "source": [
    "\"\"\"Tasks To Be Performed:\n",
    "1. Create a list named ‘myList’ that has the following elements: 10, 20, 30,\n",
    "‘apple’, True, 8.10:\n",
    "a. Now in the ‘myList’, append these values: 30, 40\n",
    "b.After that, reverse the elements of the ‘myList’ and store that in\n",
    "‘reversedList’\"\"\"\n",
    "mylist=[10,20,30,\"apple\",True,8.10]\n",
    "print(mylist)\n",
    "mylist.append(30)\n",
    "mylist.append(40)\n",
    "print(mylist)\n",
    "#mylist.extend([30,40])\n",
    "#print(mylist)\n",
    "li1=map(str,mylist)\n",
    "print(sorted(li1,reverse=True))\n"
   ]
  },
  {
   "cell_type": "code",
   "execution_count": 32,
   "id": "0eebeaf2-f3ef-4fa9-900f-cad55042faa4",
   "metadata": {},
   "outputs": [
    {
     "name": "stdout",
     "output_type": "stream",
     "text": [
      "{1: 'data', 2: 'information', 3: 'text'}\n",
      "{1: 'data', 2: 'information'}\n",
      "{1: 'data', 2: 'information', 3: 'features'}\n",
      "data\n"
     ]
    }
   ],
   "source": [
    "\"\"\"2. Create a dictionary with key values as 1, 2, 3 and the values as ‘data’,\n",
    "‘information’ and ‘text’:\n",
    "a. After that, eliminate the ‘text’ value from the dictionary\n",
    "b. Add ‘features’ in the dictionary\n",
    "c. Fetch the ‘data’ element from the dictionary and display it in the output\"\"\"\n",
    "dict1={1:\"data\",2:\"information\",3:\"text\"}\n",
    "print(dict1)\n",
    "dict1.pop(3)\n",
    "print(dict1)\n",
    "dict1[3]=\"features\"\n",
    "print(dict1)\n",
    "print(dict1[1])\n"
   ]
  },
  {
   "cell_type": "code",
   "execution_count": 37,
   "id": "f7587c07-0e38-457d-ab6e-0bb1c42ef054",
   "metadata": {},
   "outputs": [
    {
     "name": "stdout",
     "output_type": "stream",
     "text": [
      "(1, 2, 3, 'apple', 'mango')\n"
     ]
    }
   ],
   "source": [
    "\"\"\"3. Create a tuple and add these elements 1, 2, 3, apple, mango in my_tuple.\"\"\"\n",
    "my_tuple=(1,2,3,\"apple\",\"mango\")\n",
    "print(my_tuple)"
   ]
  },
  {
   "cell_type": "code",
   "execution_count": 41,
   "id": "1fb41218-e012-4cd7-ab4b-c5e1f67df326",
   "metadata": {},
   "outputs": [
    {
     "name": "stdout",
     "output_type": "stream",
     "text": [
      "10\n",
      "(1, 2, 3, 'apple', 'mango', 10, 20, 30, 40, 50)\n",
      "(1, 2, 3, 'apple', 'mango', 1, 2, 3, 'apple', 'mango')\n"
     ]
    }
   ],
   "source": [
    "\"\"\"4. Create another tuple named numeric_tuple consisting of only integer\n",
    "values 10, 20, 30, 40, 50:\n",
    "a. Find the minimum value from the numeric_tuple\n",
    "b. Concatenate my_tuple with numeric_tuple and store the result in r1\n",
    "c. Duplicate the tuple named my_tuple 2 times and store that in ‘newdupli’\"\"\"\n",
    "numeric_tuple=(10,20,30,40,50)\n",
    "print(min(numeric_tuple))\n",
    "r1=my_tuple+numeric_tuple\n",
    "print(r1)\n",
    "newdupli=my_tuple*2\n",
    "print(newdupli)"
   ]
  },
  {
   "cell_type": "code",
   "execution_count": 44,
   "id": "8379435b-2752-4151-8e22-0d7ff26b6a76",
   "metadata": {},
   "outputs": [
    {
     "name": "stdout",
     "output_type": "stream",
     "text": [
      "{1, 2, 3, 4, 5, 6, 7}\n",
      "{1, 2, 3}\n",
      "{4, 5}\n"
     ]
    }
   ],
   "source": [
    "\"\"\"5. Create 2 sets with the names set1 and set2, where set1 contains\n",
    "{1,2,3,4,5} and set2 contains {2,3,7,6,1}\n",
    "Perform the below operation:\n",
    "a. set1 union set2\n",
    "b. set1 intersection set2\n",
    "c. set1 difference set2\"\"\"\n",
    "set1={1,2,3,4,5}\n",
    "set2={2,3,7,6,1}\n",
    "print(set1.union(set2))\n",
    "print(set1.intersection(set2))\n",
    "print(set1.difference(set2))"
   ]
  },
  {
   "cell_type": "code",
   "execution_count": null,
   "id": "a39d0811-a954-419d-8d14-5865150fd7b8",
   "metadata": {},
   "outputs": [],
   "source": []
  }
 ],
 "metadata": {
  "kernelspec": {
   "display_name": "Python 3 (ipykernel)",
   "language": "python",
   "name": "python3"
  },
  "language_info": {
   "codemirror_mode": {
    "name": "ipython",
    "version": 3
   },
   "file_extension": ".py",
   "mimetype": "text/x-python",
   "name": "python",
   "nbconvert_exporter": "python",
   "pygments_lexer": "ipython3",
   "version": "3.12.7"
  }
 },
 "nbformat": 4,
 "nbformat_minor": 5
}
