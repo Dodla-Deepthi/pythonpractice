{
 "cells": [
  {
   "cell_type": "code",
   "execution_count": null,
   "id": "98a74fc8-9162-4a73-a84c-d8dd7a9ff5e7",
   "metadata": {},
   "outputs": [],
   "source": [
    " \"\"\"array is used to work with the collection of the homogeneous data elements.\n",
    "    by default python does not contain array data type but we can work with array by using the third party module like array module\"\"\""
   ]
  },
  {
   "cell_type": "code",
   "execution_count": 1,
   "id": "0ff0ecc2-b843-465f-8cb1-aa6a57f585eb",
   "metadata": {},
   "outputs": [
    {
     "name": "stdout",
     "output_type": "stream",
     "text": [
      "array('i', [20, 30, 40, 36, 46])\n"
     ]
    }
   ],
   "source": [
    "#creating an array\n",
    "import array as arr\n",
    "var=arr.array('i',[20,30,40,36,46])\n",
    "print(var)"
   ]
  },
  {
   "cell_type": "code",
   "execution_count": 14,
   "id": "1cd89621-eadd-40be-802c-4df6f2eaabaf",
   "metadata": {},
   "outputs": [
    {
     "name": "stdout",
     "output_type": "stream",
     "text": [
      "3\n",
      "<class 'array.array'>\n",
      "20\n",
      "array('i', [20, 90, 67])\n",
      "array('i')\n",
      "array('i', [20])\n"
     ]
    }
   ],
   "source": [
    "#in above example we have used 'i' that is an unicode which wii specifies the which type of elements that we can enter into the\n",
    "#array. based on different data types and different range we have different unicodes.\n",
    "\"\"\"b,B,h,H,i,I,l,L,u,f,d\"\"\"\n",
    "print(len(var))\n",
    "print(type(var))\n",
    "print(var[0])\n",
    "print(var[0:3])\n",
    "print(var[-1:-3])\n",
    "var.append(40)\n",
    "var.insert(2,90)\n",
    "var.extend([67,56])\n",
    "var.remove(40)\n",
    "var.pop()\n",
    "var.pop(1)\n",
    "del var[1:]\n",
    "print(var)"
   ]
  },
  {
   "cell_type": "code",
   "execution_count": 25,
   "id": "8dde8bff-0495-46f7-a059-ab0db636cbae",
   "metadata": {},
   "outputs": [
    {
     "name": "stdout",
     "output_type": "stream",
     "text": [
      "25\n",
      "2\n",
      "2\n",
      "[1, 2, 3, 4, 4, 5, 6]\n",
      "[6, 5, 4, 4, 3, 2, 1]\n",
      "(2187471354944, 7)\n",
      "[3, 2, 4, 1, 4, 5, 6]\n",
      "<class 'array.array'>\n"
     ]
    }
   ],
   "source": [
    "var2=arr.array('b',[3,2,4,1,4,5,6])\n",
    "print(sum(var2))\n",
    "print(var2.count(4))\n",
    "print(var2.index(4))\n",
    "print(sorted(var2))\n",
    "print(sorted(var2,reverse=True))\n",
    "#print(var2.find(5))\n",
    "print(var2.buffer_info())\n",
    "print(var2.tolist())\n",
    "print(type(var2))\n"
   ]
  },
  {
   "cell_type": "code",
   "execution_count": 28,
   "id": "ad88ec7d-d59f-43b4-a0df-788b22ed32f1",
   "metadata": {},
   "outputs": [
    {
     "name": "stdout",
     "output_type": "stream",
     "text": [
      "array('b', [3, 2, 4, 1, 5, 6])\n"
     ]
    }
   ],
   "source": [
    "#remove the second occurence of an element \n",
    "# example: delete the second occurance of the 4 in above array\n",
    "count=0\n",
    "for i in range(len(var2)):\n",
    "    if(var2[i]==4):\n",
    "        count+=1\n",
    "        if(count==2):\n",
    "            var2.pop(i)\n",
    "            break\n",
    "print(var2)"
   ]
  },
  {
   "cell_type": "code",
   "execution_count": null,
   "id": "c0ea3b17-da80-42e9-b4ae-3b8ae93f696d",
   "metadata": {},
   "outputs": [],
   "source": []
  }
 ],
 "metadata": {
  "kernelspec": {
   "display_name": "Python 3 (ipykernel)",
   "language": "python",
   "name": "python3"
  },
  "language_info": {
   "codemirror_mode": {
    "name": "ipython",
    "version": 3
   },
   "file_extension": ".py",
   "mimetype": "text/x-python",
   "name": "python",
   "nbconvert_exporter": "python",
   "pygments_lexer": "ipython3",
   "version": "3.12.7"
  }
 },
 "nbformat": 4,
 "nbformat_minor": 5
}
