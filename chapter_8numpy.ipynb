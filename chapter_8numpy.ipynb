{
 "cells": [
  {
   "cell_type": "code",
   "execution_count": null,
   "id": "9f753940-e12c-4716-9430-017b39024597",
   "metadata": {},
   "outputs": [],
   "source": [
    "\"\"\" when we need to work with the numerical operations using the python there are only few operations tht we can perform using the python.\n",
    "    sometimes it is little complexity.soo In python they have introduced the numpy library by using the numpy library we can perform the numerical\n",
    "    operations very easily .mainly the numpy will also supports the array's.\"\"\""
   ]
  },
  {
   "cell_type": "code",
   "execution_count": 1,
   "id": "9f34e906-2857-46a0-880e-915266c47131",
   "metadata": {},
   "outputs": [
    {
     "ename": "TypeError",
     "evalue": "unsupported operand type(s) for /: 'list' and 'int'",
     "output_type": "error",
     "traceback": [
      "\u001b[1;31m---------------------------------------------------------------------------\u001b[0m",
      "\u001b[1;31mTypeError\u001b[0m                                 Traceback (most recent call last)",
      "Cell \u001b[1;32mIn[1], line 3\u001b[0m\n\u001b[0;32m      1\u001b[0m \u001b[38;5;66;03m#In generally we can't perform the numerical operations on the list of elements at a time.but by using numpy we can do that.\u001b[39;00m\n\u001b[0;32m      2\u001b[0m li\u001b[38;5;241m=\u001b[39m[\u001b[38;5;241m1\u001b[39m,\u001b[38;5;241m2\u001b[39m,\u001b[38;5;241m3\u001b[39m,\u001b[38;5;241m4\u001b[39m,\u001b[38;5;241m5\u001b[39m]\n\u001b[1;32m----> 3\u001b[0m \u001b[38;5;28mprint\u001b[39m(li\u001b[38;5;241m/\u001b[39m\u001b[38;5;241m2\u001b[39m)\n",
      "\u001b[1;31mTypeError\u001b[0m: unsupported operand type(s) for /: 'list' and 'int'"
     ]
    }
   ],
   "source": [
    "#In generally we can't perform the numerical operations on the list of elements at a time.but by using numpy we can do that.\n",
    "li=[1,2,3,4,5]\n",
    "print(li/2)"
   ]
  },
  {
   "cell_type": "code",
   "execution_count": 2,
   "id": "16494370-3845-490e-8e30-dde01fde062c",
   "metadata": {},
   "outputs": [
    {
     "name": "stdout",
     "output_type": "stream",
     "text": [
      "[0.5 1.  1.5 2.  2.5]\n"
     ]
    }
   ],
   "source": [
    "\"\"\"by using the numpy we can do that\"\"\"\n",
    "import numpy as np\n",
    "data=np.array([1,2,3,4,5])\n",
    "print(data/2)"
   ]
  },
  {
   "cell_type": "code",
   "execution_count": 6,
   "id": "0c2349e9-73c8-4371-a731-c5bb169e1b53",
   "metadata": {},
   "outputs": [
    {
     "name": "stdout",
     "output_type": "stream",
     "text": [
      "[1 2 3 4 5]\n",
      "5\n",
      "<class 'numpy.ndarray'>\n",
      "(5,)\n",
      "int32\n"
     ]
    }
   ],
   "source": [
    "#one dimensional array creation\n",
    "import numpy as np\n",
    "data=np.array([1,2,3,4,5])\n",
    "print(data)\n",
    "print(data[-1])\n",
    "print(type(data))\n",
    "print(np.shape(data))\n",
    "print(data.dtype)"
   ]
  },
  {
   "cell_type": "code",
   "execution_count": 15,
   "id": "259c0ef8-c19d-4216-87a4-94d650d9a52f",
   "metadata": {},
   "outputs": [
    {
     "name": "stdout",
     "output_type": "stream",
     "text": [
      "[[45 56 34]\n",
      " [54 34 12]\n",
      " [78 67 46]]\n",
      "[[34 12]\n",
      " [67 46]]\n"
     ]
    }
   ],
   "source": [
    "#two dimensional array creation\n",
    "data=np.array([[45,56,34],[54,34,12],[78,67,46]])\n",
    "print(data)\n",
    "print(data[1:,1:])"
   ]
  },
  {
   "cell_type": "code",
   "execution_count": 7,
   "id": "b9660b88-a3b8-491b-a7f4-0ddad171108b",
   "metadata": {},
   "outputs": [
    {
     "name": "stdout",
     "output_type": "stream",
     "text": [
      "[[[12 23 12]\n",
      "  [34 45 12]\n",
      "  [32 56 14]]\n",
      "\n",
      " [[23 12 35]\n",
      "  [78 89 56]\n",
      "  [67 80 65]]]\n"
     ]
    }
   ],
   "source": [
    "#three dimensional array\n",
    "data=np.array([[[12,23,12],[34,45,12],[32,56,14]],[[23,12,35],[78,89,56],[67,80,65]]])\n",
    "print(data)"
   ]
  },
  {
   "cell_type": "code",
   "execution_count": 8,
   "id": "1c429e3d-0b10-4ad3-aff9-93f2dd8c51e9",
   "metadata": {},
   "outputs": [
    {
     "name": "stdout",
     "output_type": "stream",
     "text": [
      "<class 'numpy.ndarray'>\n"
     ]
    }
   ],
   "source": [
    "#to know which data type it is\n",
    "print(type(data))"
   ]
  },
  {
   "cell_type": "code",
   "execution_count": 9,
   "id": "b7f6064a-a310-4794-b17c-ee4fdcc741a8",
   "metadata": {},
   "outputs": [
    {
     "name": "stdout",
     "output_type": "stream",
     "text": [
      "3\n"
     ]
    }
   ],
   "source": [
    "#to konw number of dimensions that the given array cotains\n",
    "print(data.ndim)"
   ]
  },
  {
   "cell_type": "code",
   "execution_count": 10,
   "id": "16474b29-f101-4d62-a5fa-219790acbe9f",
   "metadata": {},
   "outputs": [
    {
     "name": "stdout",
     "output_type": "stream",
     "text": [
      "[9 2 3]\n"
     ]
    }
   ],
   "source": [
    "#to get the random elements numpy contains random module.\n",
    "x=np.random.randint(1,10,3)\n",
    "print(x)"
   ]
  },
  {
   "cell_type": "code",
   "execution_count": 11,
   "id": "514dbb2a-8688-433a-90dc-d05eb427df98",
   "metadata": {},
   "outputs": [
    {
     "name": "stdout",
     "output_type": "stream",
     "text": [
      "[[67 93 81 64]\n",
      " [10 88 28 71]\n",
      " [58 76 38 55]\n",
      " [75 65 79 80]]\n"
     ]
    }
   ],
   "source": [
    "# to get the random integers in the matrix format\n",
    "x=np.random.randint(1,100,(4,4))\n",
    "print(x)"
   ]
  },
  {
   "cell_type": "code",
   "execution_count": 16,
   "id": "86778007-fe9d-487d-a38e-413ff1c889b3",
   "metadata": {},
   "outputs": [
    {
     "name": "stdout",
     "output_type": "stream",
     "text": [
      "0.9103579777287414\n"
     ]
    }
   ],
   "source": [
    "# to get the random float value between 0,1\n",
    "x=np.random.rand()\n",
    "print(x)"
   ]
  },
  {
   "cell_type": "code",
   "execution_count": 18,
   "id": "35b9e4c8-c23e-4473-830f-3d94757db077",
   "metadata": {},
   "outputs": [
    {
     "name": "stdout",
     "output_type": "stream",
     "text": [
      "[[0. 0. 0.]\n",
      " [0. 0. 0.]]\n"
     ]
    }
   ],
   "source": [
    "x=np.zeros((2,3))\n",
    "print(x)"
   ]
  },
  {
   "cell_type": "code",
   "execution_count": 20,
   "id": "28d6ce63-c0eb-421f-b157-d418055839e1",
   "metadata": {},
   "outputs": [
    {
     "name": "stdout",
     "output_type": "stream",
     "text": [
      "[[1. 1. 1. 1. 1.]\n",
      " [1. 1. 1. 1. 1.]\n",
      " [1. 1. 1. 1. 1.]\n",
      " [1. 1. 1. 1. 1.]]\n"
     ]
    }
   ],
   "source": [
    "x=np.ones((4,5))\n",
    "print(x)"
   ]
  },
  {
   "cell_type": "code",
   "execution_count": 21,
   "id": "8958119b-5c05-48ad-964a-241a25cf4036",
   "metadata": {},
   "outputs": [
    {
     "name": "stdout",
     "output_type": "stream",
     "text": [
      "[[6 6 6]\n",
      " [6 6 6]\n",
      " [6 6 6]]\n"
     ]
    }
   ],
   "source": [
    "x=np.full((3,3),6)\n",
    "print(x)"
   ]
  },
  {
   "cell_type": "code",
   "execution_count": 24,
   "id": "6d442d35-7e5e-4f97-9589-d1d703947727",
   "metadata": {},
   "outputs": [
    {
     "name": "stdout",
     "output_type": "stream",
     "text": [
      "[ 0  5 10 15 20 25 30 35 40 45 50 55 60 65 70 75 80 85 90 95]\n"
     ]
    }
   ],
   "source": [
    "data=np.arange(0,100,5)\n",
    "print(data)"
   ]
  },
  {
   "cell_type": "code",
   "execution_count": 25,
   "id": "084ed538-28b8-4f5c-a1ff-49019e33ab22",
   "metadata": {},
   "outputs": [
    {
     "name": "stdout",
     "output_type": "stream",
     "text": [
      "[20 25 30 35 40 45]\n"
     ]
    }
   ],
   "source": [
    "data=np.arange(20,50,5)\n",
    "print(data)\n"
   ]
  },
  {
   "cell_type": "code",
   "execution_count": 27,
   "id": "bc5673f5-c973-497b-a77e-7c8ee4ff2be0",
   "metadata": {},
   "outputs": [
    {
     "name": "stdout",
     "output_type": "stream",
     "text": [
      "[ 0.          3.33333333  6.66666667 10.        ]\n"
     ]
    }
   ],
   "source": [
    "data=np.linspace(0,10,4)\n",
    "print(data)"
   ]
  },
  {
   "cell_type": "code",
   "execution_count": 28,
   "id": "4e5fe062-aa52-47f7-af31-359b6b14aa18",
   "metadata": {},
   "outputs": [
    {
     "name": "stdout",
     "output_type": "stream",
     "text": [
      "15\n"
     ]
    }
   ],
   "source": [
    "dt=np.array([1,2,3,4,5])\n",
    "print(sum(dt))"
   ]
  },
  {
   "cell_type": "code",
   "execution_count": 2,
   "id": "24e0b442-2b53-4aae-aafe-4f7f2db7cdd1",
   "metadata": {},
   "outputs": [
    {
     "name": "stdout",
     "output_type": "stream",
     "text": [
      "[[1. 0. 0. 0.]\n",
      " [0. 1. 0. 0.]\n",
      " [0. 0. 1. 0.]\n",
      " [0. 0. 0. 1.]]\n"
     ]
    }
   ],
   "source": [
    "import numpy as np\n",
    "print(np.eye(4))"
   ]
  },
  {
   "cell_type": "code",
   "execution_count": 5,
   "id": "4dbe9e63-efc7-4906-be72-a23c9711e8a3",
   "metadata": {},
   "outputs": [
    {
     "name": "stdout",
     "output_type": "stream",
     "text": [
      "[[34]\n",
      " [45]\n",
      " [23]\n",
      " [78]\n",
      " [56]\n",
      " [34]\n",
      " [67]\n",
      " [12]\n",
      " [89]]\n"
     ]
    }
   ],
   "source": [
    "x=np.array([[34,45,23],[78,56,34],[67,12,89]])\n",
    "x.shape=(9,1)\n",
    "print(x)"
   ]
  },
  {
   "cell_type": "code",
   "execution_count": 6,
   "id": "03fadf0d-58a7-469b-b37b-2efb7b4a303c",
   "metadata": {},
   "outputs": [
    {
     "name": "stdout",
     "output_type": "stream",
     "text": [
      "438\n"
     ]
    }
   ],
   "source": [
    "print(x.sum())"
   ]
  },
  {
   "cell_type": "code",
   "execution_count": 7,
   "id": "b832811b-7e96-4732-a44d-92e2c6f9596e",
   "metadata": {},
   "outputs": [
    {
     "name": "stdout",
     "output_type": "stream",
     "text": [
      "48.666666666666664\n"
     ]
    }
   ],
   "source": [
    "print(x.mean())"
   ]
  },
  {
   "cell_type": "code",
   "execution_count": 13,
   "id": "d08083d2-2a55-419a-81c3-73d356cd7a3d",
   "metadata": {},
   "outputs": [
    {
     "name": "stdout",
     "output_type": "stream",
     "text": [
      "3.0\n"
     ]
    }
   ],
   "source": [
    "da=np.array([1,2,3,4,5])\n",
    "print(np.median(da))"
   ]
  },
  {
   "cell_type": "code",
   "execution_count": 16,
   "id": "f86a38f9-e9b5-4ada-8a15-1aeb6be0575a",
   "metadata": {},
   "outputs": [
    {
     "name": "stdout",
     "output_type": "stream",
     "text": [
      "5\n"
     ]
    }
   ],
   "source": [
    "print(np.max(da))"
   ]
  },
  {
   "cell_type": "code",
   "execution_count": 17,
   "id": "b114b271-9382-4903-88c2-6fd6e8ac1eb8",
   "metadata": {},
   "outputs": [
    {
     "name": "stdout",
     "output_type": "stream",
     "text": [
      "89\n"
     ]
    }
   ],
   "source": [
    "print(np.max(x))"
   ]
  },
  {
   "cell_type": "code",
   "execution_count": 18,
   "id": "20b0346d-2335-4792-8143-0467f775b8e7",
   "metadata": {},
   "outputs": [
    {
     "name": "stdout",
     "output_type": "stream",
     "text": [
      "1\n"
     ]
    }
   ],
   "source": [
    "print(np.min(da))"
   ]
  },
  {
   "cell_type": "code",
   "execution_count": 19,
   "id": "b452b716-5b5a-4ec2-a538-6ded212262a5",
   "metadata": {},
   "outputs": [
    {
     "name": "stdout",
     "output_type": "stream",
     "text": [
      "12\n"
     ]
    }
   ],
   "source": [
    "print(np.min(x))"
   ]
  },
  {
   "cell_type": "code",
   "execution_count": 8,
   "id": "cd20f86d-102a-4080-93db-697d4d46aad9",
   "metadata": {},
   "outputs": [
    {
     "name": "stdout",
     "output_type": "stream",
     "text": [
      "[[1 2 3]\n",
      " [4 5 6]\n",
      " [5 6 7]]\n",
      "[[34 56 45]\n",
      " [23 41 23]\n",
      " [56 78 89]]\n"
     ]
    }
   ],
   "source": [
    "array1=np.array([[1,2,3],[4,5,6],[5,6,7]])\n",
    "print(array1)\n",
    "array2=np.array([[34,56,45],[23,41,23],[56,78,89]])\n",
    "print(array2)"
   ]
  },
  {
   "cell_type": "code",
   "execution_count": 9,
   "id": "6bf680f1-733a-4b35-b369-b714d0290c4c",
   "metadata": {},
   "outputs": [
    {
     "name": "stdout",
     "output_type": "stream",
     "text": [
      "[[35 58 48]\n",
      " [27 46 29]\n",
      " [61 84 96]]\n"
     ]
    }
   ],
   "source": [
    "print(array1+array2)"
   ]
  },
  {
   "cell_type": "code",
   "execution_count": 15,
   "id": "cdd79255-58ac-4f3c-8b44-e5ed26113563",
   "metadata": {},
   "outputs": [
    {
     "name": "stdout",
     "output_type": "stream",
     "text": [
      "[[35 58 48]\n",
      " [27 46 29]\n",
      " [61 84 96]]\n"
     ]
    }
   ],
   "source": [
    "print(np.sum((array1,array2),axis=0))"
   ]
  },
  {
   "cell_type": "code",
   "execution_count": 18,
   "id": "a052b48e-ad1c-4816-880e-5754f7b86fe1",
   "metadata": {},
   "outputs": [
    {
     "name": "stdout",
     "output_type": "stream",
     "text": [
      "[[1 2 3]\n",
      " [4 5 6]\n",
      " [5 6 7]]\n"
     ]
    }
   ],
   "source": [
    "print(np.min((array1,array2),axis=0))"
   ]
  },
  {
   "cell_type": "code",
   "execution_count": 19,
   "id": "4bcd7788-1f88-496d-92c7-3fd3d8387693",
   "metadata": {},
   "outputs": [
    {
     "name": "stdout",
     "output_type": "stream",
     "text": [
      "[[34 56 45]\n",
      " [23 41 23]\n",
      " [56 78 89]]\n"
     ]
    }
   ],
   "source": [
    "print(np.max((array1,array2),axis=0))"
   ]
  },
  {
   "cell_type": "code",
   "execution_count": 20,
   "id": "22735720-01a7-4295-83e6-2d4f31c7212f",
   "metadata": {},
   "outputs": [
    {
     "name": "stdout",
     "output_type": "stream",
     "text": [
      "[[17.5 29.  24. ]\n",
      " [13.5 23.  14.5]\n",
      " [30.5 42.  48. ]]\n"
     ]
    }
   ],
   "source": [
    "print(np.mean((array1,array2),axis=0))"
   ]
  },
  {
   "cell_type": "code",
   "execution_count": 21,
   "id": "1ed839fc-9a1b-4af9-b8b4-70b6505cd5d2",
   "metadata": {},
   "outputs": [
    {
     "name": "stdout",
     "output_type": "stream",
     "text": [
      "[[17.5 29.  24. ]\n",
      " [13.5 23.  14.5]\n",
      " [30.5 42.  48. ]]\n"
     ]
    }
   ],
   "source": [
    "print(np.median((array1,array2),axis=0))"
   ]
  },
  {
   "cell_type": "code",
   "execution_count": 22,
   "id": "3515ced1-27f9-4e6b-8c64-4e909b0da6fa",
   "metadata": {},
   "outputs": [
    {
     "name": "stdout",
     "output_type": "stream",
     "text": [
      "[[-33 -54 -42]\n",
      " [-19 -36 -17]\n",
      " [-51 -72 -82]]\n"
     ]
    }
   ],
   "source": [
    "print(array1-array2)"
   ]
  },
  {
   "cell_type": "code",
   "execution_count": 23,
   "id": "9a6f3270-010f-4c76-ab9a-0ed9e2a2a9f6",
   "metadata": {},
   "outputs": [
    {
     "name": "stdout",
     "output_type": "stream",
     "text": [
      "[[ 34 112 135]\n",
      " [ 92 205 138]\n",
      " [280 468 623]]\n"
     ]
    }
   ],
   "source": [
    "print(array1*array2)"
   ]
  },
  {
   "cell_type": "code",
   "execution_count": 24,
   "id": "a536508c-b8a6-4259-99f3-81cba9ca0d62",
   "metadata": {},
   "outputs": [
    {
     "name": "stdout",
     "output_type": "stream",
     "text": [
      "[[0.02941176 0.03571429 0.06666667]\n",
      " [0.17391304 0.12195122 0.26086957]\n",
      " [0.08928571 0.07692308 0.07865169]]\n"
     ]
    }
   ],
   "source": [
    "print(array1/array2)"
   ]
  },
  {
   "cell_type": "code",
   "execution_count": 28,
   "id": "ff50627a-9841-43c3-9b44-5b9f7db93408",
   "metadata": {},
   "outputs": [
    {
     "name": "stdout",
     "output_type": "stream",
     "text": [
      "-15\n"
     ]
    }
   ],
   "source": [
    "print(np.subtract(30,45))"
   ]
  },
  {
   "cell_type": "code",
   "execution_count": 30,
   "id": "81b2fed1-2d2e-4c8d-a46a-2271835067a0",
   "metadata": {},
   "outputs": [
    {
     "name": "stdout",
     "output_type": "stream",
     "text": [
      "1200\n"
     ]
    }
   ],
   "source": [
    "print(np.multiply(30,40))"
   ]
  },
  {
   "cell_type": "code",
   "execution_count": 31,
   "id": "1a98f8c7-e6e8-438b-a74b-e3dbdcf36840",
   "metadata": {},
   "outputs": [
    {
     "name": "stdout",
     "output_type": "stream",
     "text": [
      "[[False False False]\n",
      " [False False False]\n",
      " [False False False]]\n"
     ]
    }
   ],
   "source": [
    "print(np.equal(array1,array2))"
   ]
  },
  {
   "cell_type": "code",
   "execution_count": 32,
   "id": "32c37ba1-6a35-43b0-b709-3f106e5eeb18",
   "metadata": {},
   "outputs": [
    {
     "name": "stdout",
     "output_type": "stream",
     "text": [
      "[[ 248  372  358]\n",
      " [ 587  897  829]\n",
      " [ 700 1072  986]]\n"
     ]
    }
   ],
   "source": [
    "print(np.dot(array1,array2))"
   ]
  },
  {
   "cell_type": "code",
   "execution_count": 39,
   "id": "2f580e52-2ce6-449b-a2e5-8a868fab7758",
   "metadata": {},
   "outputs": [
    {
     "name": "stdout",
     "output_type": "stream",
     "text": [
      "['3' '4' '5' '1' 'data' 'engineering']\n",
      "['3' '4' '5' '1' 'DATA' 'ENGINEERING']\n",
      "['3' '4' '5' '1' 'DATA' 'ENGINEERING']\n",
      "['3' '4' '5' '1' 'Data' 'Engineering']\n",
      "['3' '4' '5' '1' 'Data' 'Engineering']\n",
      "[False False False False  True False]\n",
      "[False False False False False False]\n",
      "[0 0 0 0 1 0]\n",
      "[list(['3']) list(['4']) list(['5']) list(['1']) list(['d', 't', ''])\n",
      " list(['engineering'])]\n",
      "['#########3##########' '#########4##########' '#########5##########'\n",
      " '#########1##########' '########data########' '####engineering#####']\n",
      "['3###################' '4###################' '5###################'\n",
      " '1###################' 'data################' 'engineering#########']\n",
      "['###################3' '###################4' '###################5'\n",
      " '###################1' '################data' '#########engineering']\n",
      "[-1 -1 -1  0 -1 -1]\n"
     ]
    }
   ],
   "source": [
    "#string functions\n",
    "x=np.array([3,4,5,1,\"data\",\"engineering\"])\n",
    "print(np.char.lower(x))\n",
    "print(np.char.upper(x))\n",
    "print(np.char.swapcase(x))\n",
    "print(np.char.capitalize(x))\n",
    "print(np.char.title(x))\n",
    "print(np.char.startswith(x,\"d\"))\n",
    "print(np.char.endswith(x,\"d\"))\n",
    "print(np.char.count(x,\"d\"))\n",
    "print(np.char.split(x,\"a\"))\n",
    "print(np.char.center(x,20,fillchar=\"#\"))\n",
    "print(np.char.ljust(x,20,fillchar=\"#\"))\n",
    "print(np.char.rjust(x,20,fillchar=\"#\"))\n",
    "print(np.char.find(x,\"1\"))"
   ]
  },
  {
   "cell_type": "code",
   "execution_count": 42,
   "id": "72cbed76-fa2d-4ebd-826e-19148d5209f0",
   "metadata": {},
   "outputs": [
    {
     "name": "stdout",
     "output_type": "stream",
     "text": [
      "[  2.71828183   7.3890561   20.08553692  54.59815003 148.4131591 ]\n",
      "[1.         1.41421356 1.73205081 2.         2.23606798]\n",
      "[0.         0.69314718 1.09861229 1.38629436 1.60943791]\n",
      "[ 0.84147098  0.90929743  0.14112001 -0.7568025  -0.95892427]\n",
      "[ 0.54030231 -0.41614684 -0.9899925  -0.65364362  0.28366219]\n",
      "[ 1.55740772 -2.18503986 -0.14254654  1.15782128 -3.38051501]\n"
     ]
    }
   ],
   "source": [
    "#trignometry functions\n",
    "data=np.array([1,2,3,4,5])\n",
    "print(np.exp(data))\n",
    "print(np.sqrt(data))\n",
    "print(np.log(data))\n",
    "print(np.sin(data))\n",
    "print(np.cos(data))\n",
    "print(np.tan(data))"
   ]
  },
  {
   "cell_type": "code",
   "execution_count": 44,
   "id": "3b37cdbb-bef4-4c20-aa61-e0624413021f",
   "metadata": {},
   "outputs": [
    {
     "name": "stdout",
     "output_type": "stream",
     "text": [
      "57.833333333333336\n",
      "56.0\n",
      "347\n",
      "22.37868529551179\n",
      "1.0\n",
      "0.2515592515592516\n"
     ]
    }
   ],
   "source": [
    "#descripitive statistics\n",
    "data=np.array([67,78,45,23,45,89])\n",
    "print(np.mean(data))\n",
    "print(np.median(data))\n",
    "print(np.sum(data))\n",
    "print(np.std(data))\n",
    "print(np.corrcoef(data))\n",
    "q1=np.quantile(data,0.25)\n",
    "q2=np.quantile(data,0.50)\n",
    "q3=np.quantile(data,0.75)\n",
    "q4=np.quantile(data,1)\n",
    "qd=(q3-q1)/(q3+q1)\n",
    "print(qd)"
   ]
  },
  {
   "cell_type": "code",
   "execution_count": 47,
   "id": "317b194e-d09b-4414-888e-310f536dec6c",
   "metadata": {},
   "outputs": [
    {
     "name": "stdout",
     "output_type": "stream",
     "text": [
      "[array([[1, 2, 3, 4],\n",
      "       [5, 6, 7, 8]]), array([[3, 4, 2, 1],\n",
      "       [5, 2, 4, 8]])]\n",
      "[array([[1, 2],\n",
      "       [5, 6],\n",
      "       [3, 4],\n",
      "       [5, 2]]), array([[3, 4],\n",
      "       [7, 8],\n",
      "       [2, 1],\n",
      "       [4, 8]])]\n",
      "[array([[1, 2],\n",
      "       [5, 6],\n",
      "       [3, 4],\n",
      "       [5, 2]]), array([[3, 4],\n",
      "       [7, 8],\n",
      "       [2, 1],\n",
      "       [4, 8]])]\n",
      "[array([[1, 2, 3, 4],\n",
      "       [5, 6, 7, 8]]), array([[3, 4, 2, 1],\n",
      "       [5, 2, 4, 8]])]\n",
      "[[1 5 3 5]\n",
      " [2 6 4 2]\n",
      " [3 7 2 4]\n",
      " [4 8 1 8]]\n"
     ]
    }
   ],
   "source": [
    "arr=np.array([[1,2,3,4],[5,6,7,8],[3,4,2,1],[5,2,4,8]])\n",
    "print(np.split(arr,2,axis=0))\n",
    "print(np.split(arr,2,axis=1))\n",
    "print(np.hsplit(arr,2))\n",
    "print(np.vsplit(arr,2))\n",
    "print(arr.T)"
   ]
  },
  {
   "cell_type": "code",
   "execution_count": 53,
   "id": "ed88e6b7-f9b2-46b6-9bc3-c71fa096cc8b",
   "metadata": {},
   "outputs": [
    {
     "name": "stdout",
     "output_type": "stream",
     "text": [
      "[[-3 -2 -1]\n",
      " [-1  0  1]\n",
      " [ 1  2  3]]\n"
     ]
    }
   ],
   "source": [
    "#boardcasting\n",
    "arr=np.array([[1,2,3],[4,5,6],[7,8,9]])\n",
    "arr2=np.array([[4],[5],[6]])\n",
    "print(arr-arr2)"
   ]
  },
  {
   "cell_type": "code",
   "execution_count": 54,
   "id": "94a25f2a-bd5f-42d8-9306-525f1f04ad49",
   "metadata": {},
   "outputs": [
    {
     "name": "stdout",
     "output_type": "stream",
     "text": [
      "[[1. 0. 0.]\n",
      " [0. 1. 0.]\n",
      " [0. 0. 1.]]\n"
     ]
    }
   ],
   "source": [
    "print(np.eye(3))"
   ]
  },
  {
   "cell_type": "code",
   "execution_count": 68,
   "id": "6092a6c6-8463-4a4b-a821-6a193b0c7aec",
   "metadata": {},
   "outputs": [
    {
     "name": "stdout",
     "output_type": "stream",
     "text": [
      "[[34 45]\n",
      " [12 34]\n",
      " [56 12]\n",
      " [23 45]\n",
      " [78 90]\n",
      " [89 67]\n",
      " [45 13]\n",
      " [25 43]]\n",
      "[[34 45]\n",
      " [12 34]\n",
      " [56 12]\n",
      " [23 45]\n",
      " [78 90]\n",
      " [89 67]\n",
      " [45 13]\n",
      " [25 43]]\n"
     ]
    }
   ],
   "source": [
    "arr=np.array([[34,45,12,34],[56,12,23,45],[78,90,89,67],[45,13,25,43]])\n",
    "array1=arr.ravel()\n",
    "print(array1.reshape((8,2)))\n",
    "arr.shape=(8,2)\n",
    "print(arr)"
   ]
  },
  {
   "cell_type": "code",
   "execution_count": 70,
   "id": "b358db95-f067-4ca5-99c3-d6c834f3d7c1",
   "metadata": {},
   "outputs": [
    {
     "name": "stdout",
     "output_type": "stream",
     "text": [
      "[[ 1  2  3]\n",
      " [ 4  5  6]\n",
      " [ 5  6  7]\n",
      " [34 56 45]\n",
      " [23 41 23]\n",
      " [56 78 89]]\n",
      "[[ 1  2  3 34 56 45]\n",
      " [ 4  5  6 23 41 23]\n",
      " [ 5  6  7 56 78 89]]\n"
     ]
    }
   ],
   "source": [
    "array1=np.array([[1,2,3],[4,5,6],[5,6,7]])\n",
    "array2=np.array([[34,56,45],[23,41,23],[56,78,89]])\n",
    "print(np.concatenate([array1,array2],axis=0))\n",
    "print(np.concatenate([array1,array2],axis=1))"
   ]
  },
  {
   "cell_type": "code",
   "execution_count": null,
   "id": "14a8758f-3b01-487e-8dc3-483399511fbe",
   "metadata": {},
   "outputs": [],
   "source": [
    "print(np.vstack([array1,array2]))\n",
    "print(np.stack([array1,array2]))"
   ]
  }
 ],
 "metadata": {
  "kernelspec": {
   "display_name": "Python 3 (ipykernel)",
   "language": "python",
   "name": "python3"
  },
  "language_info": {
   "codemirror_mode": {
    "name": "ipython",
    "version": 3
   },
   "file_extension": ".py",
   "mimetype": "text/x-python",
   "name": "python",
   "nbconvert_exporter": "python",
   "pygments_lexer": "ipython3",
   "version": "3.12.7"
  }
 },
 "nbformat": 4,
 "nbformat_minor": 5
}
