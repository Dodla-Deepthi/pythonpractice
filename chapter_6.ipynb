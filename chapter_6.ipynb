{
 "cells": [
  {
   "cell_type": "code",
   "execution_count": null,
   "id": "6ea80764-725e-4bc5-ba01-a86fb13e5466",
   "metadata": {},
   "outputs": [],
   "source": [
    "\"\"\"control statement:\n",
    "   1.conditional control statements\n",
    "   2.Itterative/repitative/looping control statements \n",
    "   3.unconditional control statements\"\"\""
   ]
  },
  {
   "cell_type": "code",
   "execution_count": null,
   "id": "6436de15-c969-420b-8103-86e17b1c69b8",
   "metadata": {},
   "outputs": [],
   "source": [
    "#conditional control statements\n",
    "\"\"\"\"they are used to execute based on conditoion\n",
    "    they are:\n",
    "    1.If\n",
    "    2.If else\n",
    "    3.If elif else\n",
    "    4.Nested IF\n",
    "    5.short hand if\n",
    "    6.short hand if else\"\"\""
   ]
  },
  {
   "cell_type": "code",
   "execution_count": 1,
   "id": "ab20ab4c-7156-4f7e-a0fb-f597686cf453",
   "metadata": {},
   "outputs": [
    {
     "name": "stdout",
     "output_type": "stream",
     "text": [
      "10 is large\n"
     ]
    }
   ],
   "source": [
    "#if statement\n",
    "a=10\n",
    "if(a>5):\n",
    "    print(f\"{a} is large\")"
   ]
  },
  {
   "cell_type": "code",
   "execution_count": 2,
   "id": "c30225d1-ee61-480d-a6ef-ffd2854a328f",
   "metadata": {},
   "outputs": [
    {
     "name": "stdout",
     "output_type": "stream",
     "text": [
      "50 is large\n"
     ]
    }
   ],
   "source": [
    "#if else\n",
    "a,b=30,50\n",
    "if(a>b):\n",
    "    print(f\"{a} is large\")\n",
    "else:\n",
    "    print(f\"{b} is large\")"
   ]
  },
  {
   "cell_type": "code",
   "execution_count": 3,
   "id": "89c9fda5-375b-47e0-931f-6ebb4329aa50",
   "metadata": {},
   "outputs": [
    {
     "name": "stdout",
     "output_type": "stream",
     "text": [
      "60 is large\n"
     ]
    }
   ],
   "source": [
    "#if elif else\n",
    "a,b,c=10,30,60\n",
    "if(a>b and a>c):\n",
    "    print(f\"{a} is large\")\n",
    "elif(b>a and b>c):\n",
    "    print(f\"{b} is large\")\n",
    "else:\n",
    "    print(f\"{c} is large\")\n",
    "    "
   ]
  },
  {
   "cell_type": "code",
   "execution_count": null,
   "id": "5b89f4f7-69c8-4673-b482-34b2ef90f668",
   "metadata": {},
   "outputs": [],
   "source": [
    "#short hand if\n",
    "a=10\n",
    "if(a>10):print(f\"{a} is large\")"
   ]
  },
  {
   "cell_type": "code",
   "execution_count": null,
   "id": "be215ecd-44da-4f27-ab44-aae742b24fd2",
   "metadata": {},
   "outputs": [],
   "source": [
    "#short hand if else\n",
    "a,b=30,40\n",
    "var=\"a is large\" if(a>b) else \"b is large\"\n",
    "print(var)\n",
    "# these is also called as python ternary operator"
   ]
  },
  {
   "cell_type": "code",
   "execution_count": 2,
   "id": "daf95ea9-8512-4cf6-bc03-d604f836fad6",
   "metadata": {},
   "outputs": [
    {
     "name": "stdout",
     "output_type": "stream",
     "text": [
      "False\n"
     ]
    }
   ],
   "source": [
    "#extra\n",
    "if(0):\n",
    "    print(\"true\")\n",
    "else:\n",
    "    print(\"False\")"
   ]
  },
  {
   "cell_type": "code",
   "execution_count": null,
   "id": "561afd15-70bd-41b2-981d-45ab17482311",
   "metadata": {},
   "outputs": [],
   "source": [
    "# 2.Itterative/repitative/looping control statements\n",
    "\"\"\"there are mainly two types of itterative control statements are there.They are:\n",
    "   1.for loop\n",
    "   2.while lopp\n",
    "   we can also use\n",
    "   1.for else\"\"\"\n"
   ]
  },
  {
   "cell_type": "code",
   "execution_count": 6,
   "id": "2e048330-5292-460f-9667-6de08b5a0b71",
   "metadata": {},
   "outputs": [
    {
     "name": "stdin",
     "output_type": "stream",
     "text": [
      " 60 69 78 35 46\n"
     ]
    },
    {
     "name": "stdout",
     "output_type": "stream",
     "text": [
      "60,69,78,35,46,60,69,78,35,46\n"
     ]
    }
   ],
   "source": [
    "#for loop\n",
    "\"\"\" for loop is used when we know upto we nwwd to itterate the elements\n",
    "     syntax for variable in sequence\"\"\"\n",
    "#ex-1\n",
    "li=list(map(int,input().split()))\n",
    "for i in li:\n",
    "    print(i ,end=\",\")\n",
    "li1=li\n",
    "print(\",\".join(map(str,li1)))"
   ]
  },
  {
   "cell_type": "code",
   "execution_count": 7,
   "id": "f7244124-5b4c-460c-93b6-57da1e4b06c1",
   "metadata": {},
   "outputs": [
    {
     "name": "stdin",
     "output_type": "stream",
     "text": [
      "Enter a number:  7\n"
     ]
    },
    {
     "name": "stdout",
     "output_type": "stream",
     "text": [
      "7 is a prime number\n"
     ]
    }
   ],
   "source": [
    "# for else\n",
    "#check wheather the given number is a prime number or not\n",
    "num=int(input(\"Enter a number: \"))\n",
    "for i in range(2,num):\n",
    "    if(num%i==0):\n",
    "        break\n",
    "else:\n",
    "    print(f\"{num} is a prime number\")"
   ]
  },
  {
   "cell_type": "code",
   "execution_count": 8,
   "id": "e5b6fc83-d914-4ca2-823c-0276dd26a247",
   "metadata": {},
   "outputs": [
    {
     "name": "stdin",
     "output_type": "stream",
     "text": [
      "enter a number:  153\n"
     ]
    },
    {
     "name": "stdout",
     "output_type": "stream",
     "text": [
      "9 is the sum of the digits of a number\n"
     ]
    }
   ],
   "source": [
    "#while loop\n",
    "#sum of the digits of a number using while loop\n",
    "num=int(input(\"enter a number: \"))\n",
    "sum,rem=0,0\n",
    "while num>0:\n",
    "    rem=num%10\n",
    "    sum=sum+rem\n",
    "    num=num//10\n",
    "print(f\"{sum} is the sum of the digits of a number\")\n",
    "    "
   ]
  },
  {
   "cell_type": "code",
   "execution_count": null,
   "id": "27bc711a-80a7-4954-9fbd-805942c8eb3c",
   "metadata": {},
   "outputs": [],
   "source": [
    "\"\"\"unconditional control statements \n",
    "   1.break\n",
    "   2.continue\n",
    "   3.pass\"\"\""
   ]
  },
  {
   "cell_type": "code",
   "execution_count": 9,
   "id": "801372bf-ab0e-4cd8-befe-de2c4bcaa24f",
   "metadata": {},
   "outputs": [
    {
     "name": "stdout",
     "output_type": "stream",
     "text": [
      "1 2 3 4 "
     ]
    }
   ],
   "source": [
    "#break\n",
    "for i in range(1,11):\n",
    "    if(i==5):\n",
    "        break\n",
    "    print(i,end=\" \")\n",
    "    "
   ]
  },
  {
   "cell_type": "code",
   "execution_count": 11,
   "id": "2831a3fa-5baf-40c1-9d9e-cd7435e0670d",
   "metadata": {},
   "outputs": [
    {
     "name": "stdout",
     "output_type": "stream",
     "text": [
      "2 4 6 8 12 14 16 18 "
     ]
    }
   ],
   "source": [
    "#continue \n",
    "for i in range(2,20,2):\n",
    "    if(i==10):\n",
    "        continue\n",
    "    print(i,end=\" \")"
   ]
  },
  {
   "cell_type": "code",
   "execution_count": 12,
   "id": "eff4df76-fa7a-4ab6-8c96-74f2e7800b3a",
   "metadata": {},
   "outputs": [
    {
     "name": "stdin",
     "output_type": "stream",
     "text": [
      " 10\n"
     ]
    }
   ],
   "source": [
    "#pass\n",
    "a=int(input())\n",
    "if(a>0):\n",
    "    pass"
   ]
  },
  {
   "cell_type": "code",
   "execution_count": null,
   "id": "bbd5a028-65e5-474d-84ff-c9d63a95f1f0",
   "metadata": {},
   "outputs": [],
   "source": [
    "\n"
   ]
  }
 ],
 "metadata": {
  "kernelspec": {
   "display_name": "Python 3 (ipykernel)",
   "language": "python",
   "name": "python3"
  },
  "language_info": {
   "codemirror_mode": {
    "name": "ipython",
    "version": 3
   },
   "file_extension": ".py",
   "mimetype": "text/x-python",
   "name": "python",
   "nbconvert_exporter": "python",
   "pygments_lexer": "ipython3",
   "version": "3.12.7"
  }
 },
 "nbformat": 4,
 "nbformat_minor": 5
}
